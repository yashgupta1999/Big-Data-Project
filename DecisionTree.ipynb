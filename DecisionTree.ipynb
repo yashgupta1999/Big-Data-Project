{
 "cells": [
  {
   "cell_type": "code",
   "execution_count": 6,
   "metadata": {},
   "outputs": [],
   "source": [
    "#Import required packages\n",
    "\n",
    "import pandas as pd\n",
    "from sklearn.model_selection import KFold\n",
    "from sklearn.tree import DecisionTreeClassifier\n",
    "import numpy as np # linear algebra\n",
    "from sklearn.model_selection import train_test_split"
   ]
  },
  {
   "cell_type": "code",
   "execution_count": 7,
   "metadata": {},
   "outputs": [
    {
     "data": {
      "text/plain": [
       "Partly Cloudy                          31733\n",
       "Mostly Cloudy                          28094\n",
       "Overcast                               16597\n",
       "Clear                                  10890\n",
       "Foggy                                   7148\n",
       "Breezy and Overcast                      528\n",
       "Breezy and Mostly Cloudy                 516\n",
       "Breezy and Partly Cloudy                 386\n",
       "Dry and Partly Cloudy                     86\n",
       "Windy and Partly Cloudy                   67\n",
       "Light Rain                                63\n",
       "Breezy                                    54\n",
       "Windy and Overcast                        45\n",
       "Humid and Mostly Cloudy                   40\n",
       "Drizzle                                   39\n",
       "Windy and Mostly Cloudy                   35\n",
       "Breezy and Foggy                          35\n",
       "Dry                                       34\n",
       "Humid and Partly Cloudy                   17\n",
       "Dry and Mostly Cloudy                     14\n",
       "Rain                                      10\n",
       "Windy                                      8\n",
       "Humid and Overcast                         7\n",
       "Windy and Foggy                            4\n",
       "Breezy and Dry                             1\n",
       "Windy and Dry                              1\n",
       "Dangerously Windy and Partly Cloudy        1\n",
       "Name: Summary, dtype: int64"
      ]
     },
     "execution_count": 7,
     "metadata": {},
     "output_type": "execute_result"
    }
   ],
   "source": [
    "#Load data\n",
    "data = pd.read_csv(\"wh.csv\")\n",
    "\n",
    "#Inspect the data\n",
    "data['Summary'].value_counts()\n",
    "\n",
    "#NOTE: It was decided as part of the project to select the top 5 of this result"
   ]
  },
  {
   "cell_type": "code",
   "execution_count": 8,
   "metadata": {},
   "outputs": [
    {
     "data": {
      "text/plain": [
       "4    31733\n",
       "2    28094\n",
       "3    16597\n",
       "0    10890\n",
       "1     7148\n",
       "Name: SummaryCat, dtype: int64"
      ]
     },
     "execution_count": 8,
     "metadata": {},
     "output_type": "execute_result"
    }
   ],
   "source": [
    "#Select the category values to use\n",
    "b = ['Partly Cloudy','Mostly Cloudy','Overcast','Clear','Foggy']\n",
    "data = data[data['Summary'].isin(b)]\n",
    "\n",
    "#Convert to numeric values\n",
    "data[\"SummaryCat\"] = data[\"Summary\"].astype('category')\n",
    "data[\"SummaryCat\"] = data[\"SummaryCat\"].cat.codes\n",
    "\n",
    "#Check the results\n",
    "data['SummaryCat'].value_counts()"
   ]
  },
  {
   "cell_type": "code",
   "execution_count": 9,
   "metadata": {},
   "outputs": [],
   "source": [
    "#This function will DTC model using the given train and test data, returning the model and its accuracy\n",
    "def trainRound(trainx, trainy, testx, testy):\n",
    "    #Create the classifier variable\n",
    "    DecisionTreeClassifier().__init__()\n",
    "    clf = DecisionTreeClassifier()\n",
    "    \n",
    "    #Fit the model\n",
    "    clf = clf.fit(trainx, trainy)\n",
    "\n",
    "    #Get the score of the model using the x and y dataframes\n",
    "    testy = pd.DataFrame(data=testy)\n",
    "    \n",
    "    #Return the score and the model\n",
    "    x =  clf.score(testx, testy)\n",
    "    return x, clf\n",
    "\n",
    "#This function will use the given values to split the data and train a DTC on each fold, returning the best fold results\n",
    "def kfoldApproach(folds, X, Y):\n",
    "    #Get the fold indexes for the split to happen on\n",
    "    kf = KFold(n_splits=5, shuffle=True, random_state=1999)\n",
    "    \n",
    "    #The list variables that will store each of the fold information\n",
    "    acuracies = []\n",
    "    models = []\n",
    "    \n",
    "    for train_index, test_index in kf.split(X):\n",
    "        trainx = X[train_index]\n",
    "        testx = X[test_index]\n",
    "        \n",
    "        trainy = Y[train_index]\n",
    "        testy = Y[test_index]\n",
    "        \n",
    "        a, m = trainRound(trainx, trainy, testx, testy)\n",
    "        acuracies.append(a)\n",
    "        models.append(m)\n",
    "        \n",
    "    #Find the model that is the most accurate\n",
    "    highestIndex = acuracies.index(max(acuracies))\n",
    "    \n",
    "    #Return the most accurate model and its accuracy\n",
    "    selectedModel = models[highestIndex]\n",
    "    selectedAccuracy = acuracies[highestIndex]    \n",
    "    return selectedModel, selectedAccuracy"
   ]
  },
  {
   "cell_type": "code",
   "execution_count": 10,
   "metadata": {},
   "outputs": [
    {
     "name": "stdout",
     "output_type": "stream",
     "text": [
      "The highest accuracy of the folds and combinations is: \n",
      "0.5061930976074529\n",
      "['Temperature (C)', 'Apparent Temperature (C)', 'Humidity', 'Wind Bearing (degrees)', 'Visibility (km)', 'Pressure (millibars)']\n",
      "Elapsed Time:\n",
      "202.09453129768372\n"
     ]
    }
   ],
   "source": [
    "#Already done above: data = data.drop(['Formatted Date','Daily Summary','Loud Cover', 'Precip Type'],axis=1)\n",
    "\n",
    "import itertools\n",
    "\n",
    "#This will try each combination of predictor attributes to determine which gives the most accurate model\n",
    "def modelExecution():\n",
    "    #A list of the predictor attributes\n",
    "    a = ['Temperature (C)','Apparent Temperature (C)','Humidity','Wind Speed (km/h)','Wind Bearing (degrees)','Visibility (km)','Pressure (millibars)']\n",
    "\n",
    "    acuracies = []\n",
    "    models = []\n",
    "    predictors = []\n",
    "\n",
    "    #Do every combination of input predictor length (this is how the itertools.combinations function works)\n",
    "    for L in range(1, len(a)+1):\n",
    "        \n",
    "        #Do every combination of that length L\n",
    "        for subset in itertools.combinations(a, L):\n",
    "            \n",
    "            #get the subset of columns we are currently using\n",
    "            s = list(subset)\n",
    "            \n",
    "            #Get the predictor dataframe from this subset of columns\n",
    "            X = np.array(data[s]) #independent variable\n",
    "            Y = np.array(data['SummaryCat']) #target variable\n",
    "\n",
    "            #Find the best model for this combination of predictors\n",
    "            m, ac= kfoldApproach(5, X, Y)\n",
    "            \n",
    "            #Append the results before trying the next combination\n",
    "            acuracies.append(ac)\n",
    "            models.append(m)\n",
    "            predictors.append(s)\n",
    "\n",
    "    #Select the best model\n",
    "    highestIndex = acuracies.index(max(acuracies))\n",
    "\n",
    "    selectedModel = models[highestIndex]\n",
    "    selectedAccuracy = acuracies[highestIndex]\n",
    "    selectedPredictors = predictors[highestIndex]\n",
    "\n",
    "    print('The highest accuracy of the folds and combinations is: ')\n",
    "    print(selectedAccuracy)\n",
    "    print(selectedPredictors)\n",
    "    \n",
    "    return selectedModel, selectedPredictors\n",
    "    \n",
    "#This portion of the code will measure the entire process started in the above functions\n",
    "import time\n",
    "\n",
    "#Get the start time\n",
    "start = time.time()\n",
    "\n",
    "#Run our model training procedure defined above\n",
    "finalDTM, selectedPredictors = modelExecution()\n",
    "\n",
    "#Get the end time\n",
    "end = time.time()\n",
    "print(\"Elapsed Time:\")\n",
    "print(end - start)"
   ]
  },
  {
   "cell_type": "code",
   "execution_count": 11,
   "metadata": {},
   "outputs": [],
   "source": [
    "import pickle\n",
    "\n",
    "# save the model to disk\n",
    "filename = 'DecisionTreeClassifier.sav'\n",
    "pickle.dump(finalDTM, open(filename, 'wb'))"
   ]
  },
  {
   "cell_type": "code",
   "execution_count": 12,
   "metadata": {},
   "outputs": [
    {
     "name": "stdout",
     "output_type": "stream",
     "text": [
      "0             Overcast\n",
      "1                Foggy\n",
      "2                Clear\n",
      "3                Clear\n",
      "4                Foggy\n",
      "             ...      \n",
      "37780    Partly Cloudy\n",
      "37781    Partly Cloudy\n",
      "37782    Mostly Cloudy\n",
      "37783            Clear\n",
      "37784    Partly Cloudy\n",
      "Name: predicted, Length: 37785, dtype: object\n"
     ]
    }
   ],
   "source": [
    "import pickle\n",
    "\n",
    "#This is a function that can be used to load the saved model and predict results from the given data\n",
    "def predictFromBestDecisionTreeModel(TestX):\n",
    "    #Load the model\n",
    "    filename = 'DecisionTreeClassifier.sav'\n",
    "    selectedPredictors = ['Temperature (C)', 'Apparent Temperature (C)', 'Humidity', 'Wind Bearing (degrees)', 'Visibility (km)', 'Pressure (millibars)']\n",
    "    mod = pickle.load(open(filename, 'rb')) #This is the model that was best\n",
    "    \n",
    "    #Predict the output for the given data\n",
    "    predicted = mod.predict(TestX) #Predict stuff\n",
    "    \n",
    "    #Convert back to the label types\n",
    "    label_map = {\n",
    "        4:'Partly Cloudy',\n",
    "        2:'Mostly Cloudy',\n",
    "        3:'Overcast',\n",
    "        0:'Clear',\n",
    "        1:'Foggy'\n",
    "    }\n",
    "    \n",
    "    #Put the labels back in replace of their numeric equivilents\n",
    "    df = pd.DataFrame(data=predicted,  columns=[\"predicted\"])\n",
    "    p = df[\"predicted\"].map(label_map)\n",
    "    return p\n",
    "\n",
    "#Below is an example of how you can use the above function\n",
    "#You can now use the following to get the predictions from the given testX set\n",
    "testx=pd.read_csv(\"data files/testx.csv\",index_col=0);\n",
    "pred = predictFromBestDecisionTreeModel(testx[selectedPredictors])\n",
    "\n",
    "print(pred)"
   ]
  }
 ],
 "metadata": {
  "kernelspec": {
   "display_name": "Python 3",
   "language": "python",
   "name": "python3"
  },
  "language_info": {
   "codemirror_mode": {
    "name": "ipython",
    "version": 3
   },
   "file_extension": ".py",
   "mimetype": "text/x-python",
   "name": "python",
   "nbconvert_exporter": "python",
   "pygments_lexer": "ipython3",
   "version": "3.7.9"
  }
 },
 "nbformat": 4,
 "nbformat_minor": 4
}
