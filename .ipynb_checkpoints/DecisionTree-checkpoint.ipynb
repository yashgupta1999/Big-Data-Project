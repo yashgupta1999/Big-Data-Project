{
 "cells": [
  {
   "cell_type": "code",
   "execution_count": null,
   "metadata": {},
   "outputs": [],
   "source": [
    "#---------------------------------------Header Comments-------------------------------------------------------------\n",
    "#This notebook develops a decision tree classifier and compares it with each possible way of evaluating the dataset\n",
    "#by using 5 fold cross validation and every combination of input features\n",
    "#\n",
    "#Developed By: Shaun Cyr (2020)\n",
    "#\n",
    "#Accuracy: 47.8%\n",
    "#Training Time: 114 seconds\n",
    "#-------------------------------------------------------------------------------------------------------------------"
   ]
  },
  {
   "cell_type": "code",
   "execution_count": 1,
   "metadata": {},
   "outputs": [],
   "source": [
    "#Import required packages\n",
    "\n",
    "import pandas as pd\n",
    "from sklearn.model_selection import KFold\n",
    "from sklearn.tree import DecisionTreeClassifier\n",
    "import numpy as np # linear algebra\n",
    "from sklearn.model_selection import train_test_split"
   ]
  },
  {
   "cell_type": "code",
   "execution_count": 2,
   "metadata": {},
   "outputs": [
    {
     "data": {
      "text/plain": [
       "1    18530\n",
       "2    16143\n",
       "3     8981\n",
       "4     5882\n",
       "5     3814\n",
       "Name: summary, dtype: int64"
      ]
     },
     "execution_count": 2,
     "metadata": {},
     "output_type": "execute_result"
    }
   ],
   "source": [
    "#Load data\n",
    "d1 = pd.read_csv(\"data files/trainx.csv\")\n",
    "d2 = pd.read_csv(\"data files/trainy.csv\")\n",
    "\n",
    "data = pd.concat([d1, d2], axis=1)\n",
    "\n",
    "#Inspect the data\n",
    "data['summary'].value_counts()\n",
    "\n",
    "#NOTE: It was decided as part of the project to select the top 5 of this result"
   ]
  },
  {
   "cell_type": "code",
   "execution_count": 3,
   "metadata": {},
   "outputs": [
    {
     "data": {
      "text/plain": [
       "1    18530\n",
       "2    16143\n",
       "3     8981\n",
       "4     5882\n",
       "5     3814\n",
       "Name: SummaryCat, dtype: int64"
      ]
     },
     "execution_count": 3,
     "metadata": {},
     "output_type": "execute_result"
    }
   ],
   "source": [
    "#Convert to numeric values\n",
    "data[\"SummaryCat\"] = data[\"summary\"]\n",
    "\n",
    "#Check the results\n",
    "data['SummaryCat'].value_counts()"
   ]
  },
  {
   "cell_type": "code",
   "execution_count": 31,
   "metadata": {},
   "outputs": [],
   "source": [
    "#This function will DTC model using the given train and test data, returning the model and its accuracy\n",
    "def trainRound(trainx, trainy, testx, testy):\n",
    "    #Create the classifier variable\n",
    "    DecisionTreeClassifier().__init__()\n",
    "    clf = DecisionTreeClassifier()\n",
    "    \n",
    "    #Fit the model\n",
    "    clf = clf.fit(trainx, trainy)\n",
    "\n",
    "    #Get the score of the model using the x and y dataframes\n",
    "    testy = pd.DataFrame(data=testy)\n",
    "    \n",
    "    #Return the score and the model\n",
    "    x =  clf.score(testx, testy)\n",
    "    return x, clf\n",
    "\n",
    "#This function will use the given values to split the data and train a DTC on each fold, returning the best fold results\n",
    "def kfoldApproach(folds, X, Y):\n",
    "    #Get the fold indexes for the split to happen on\n",
    "    kf = KFold(n_splits=5, shuffle=True, random_state=1999)\n",
    "    \n",
    "    #The list variables that will store each of the fold information\n",
    "    acuracies = []\n",
    "    models = []\n",
    "    \n",
    "    for train_index, test_index in kf.split(X):\n",
    "        trainx = X.iloc[train_index]\n",
    "        testx = X.iloc[test_index]\n",
    "        \n",
    "        trainy = Y.iloc[train_index]\n",
    "        testy = Y.iloc[test_index]\n",
    "        \n",
    "        a, m = trainRound(trainx, trainy, testx, testy)\n",
    "        acuracies.append(a)\n",
    "        models.append(m)\n",
    "        \n",
    "    #Find the model that is the most accurate\n",
    "    highestIndex = acuracies.index(max(acuracies))\n",
    "    \n",
    "    #Return the most accurate model and its accuracy\n",
    "    selectedModel = models[highestIndex]\n",
    "    selectedAccuracy = acuracies[highestIndex]    \n",
    "    return selectedModel, selectedAccuracy"
   ]
  },
  {
   "cell_type": "code",
   "execution_count": 5,
   "metadata": {},
   "outputs": [
    {
     "name": "stdout",
     "output_type": "stream",
     "text": [
      "The highest accuracy of the folds and combinations is: \n",
      "0.487535145267104\n",
      "['Visibility (km)']\n",
      "Elapsed Time:\n",
      "114.37338852882385\n"
     ]
    }
   ],
   "source": [
    "#Already done above: data = data.drop(['Formatted Date','Daily Summary','Loud Cover', 'Precip Type'],axis=1)\n",
    "\n",
    "import itertools\n",
    "\n",
    "#This will try each combination of predictor attributes to determine which gives the most accurate model\n",
    "def modelExecution():\n",
    "    #A list of the predictor attributes\n",
    "    a = ['Temperature (C)','Apparent Temperature (C)','Humidity','Wind Speed (km/h)','Wind Bearing (degrees)','Visibility (km)','Pressure (millibars)']\n",
    "\n",
    "    acuracies = []\n",
    "    models = []\n",
    "    predictors = []\n",
    "\n",
    "    #Do every combination of input predictor length (this is how the itertools.combinations function works)\n",
    "    for L in range(1, len(a)+1):\n",
    "        \n",
    "        #Do every combination of that length L\n",
    "        for subset in itertools.combinations(a, L):\n",
    "            \n",
    "            #get the subset of columns we are currently using\n",
    "            s = list(subset)\n",
    "            \n",
    "            #Get the predictor dataframe from this subset of columns\n",
    "            X = np.array(data[s]) #independent variable\n",
    "            Y = np.array(data['SummaryCat']) #target variable\n",
    "\n",
    "            #Find the best model for this combination of predictors\n",
    "            m, ac= kfoldApproach(5, X, Y)\n",
    "            \n",
    "            #Append the results before trying the next combination\n",
    "            acuracies.append(ac)\n",
    "            models.append(m)\n",
    "            predictors.append(s)\n",
    "\n",
    "    #Select the best model\n",
    "    highestIndex = acuracies.index(max(acuracies))\n",
    "\n",
    "    selectedModel = models[highestIndex]\n",
    "    selectedAccuracy = acuracies[highestIndex]\n",
    "    selectedPredictors = predictors[highestIndex]\n",
    "\n",
    "    print('The highest accuracy of the folds and combinations is: ')\n",
    "    print(selectedAccuracy)\n",
    "    print(selectedPredictors)\n",
    "    \n",
    "    return selectedModel, selectedPredictors\n",
    "    \n",
    "#This portion of the code will measure the entire process started in the above functions\n",
    "import time\n",
    "\n",
    "#Get the start time\n",
    "start = time.time()\n",
    "\n",
    "#Run our model training procedure defined above\n",
    "finalDTM, selectedPredictors = modelExecution()\n",
    "\n",
    "#Get the end time\n",
    "end = time.time()\n",
    "print(\"Elapsed Time:\")\n",
    "print(end - start)"
   ]
  },
  {
   "cell_type": "code",
   "execution_count": 6,
   "metadata": {},
   "outputs": [],
   "source": [
    "import pickle\n",
    "\n",
    "# save the model to disk\n",
    "filename = 'DecisionTreeClassifier.sav'\n",
    "pickle.dump(finalDTM, open(filename, 'wb'))"
   ]
  },
  {
   "cell_type": "code",
   "execution_count": 46,
   "metadata": {},
   "outputs": [],
   "source": [
    "import pickle\n",
    "\n",
    "#This is a function that can be used to load the saved model and predict results from the given data\n",
    "def predictFromBestDecisionTreeModel(TestX):\n",
    "    #Load the model\n",
    "    filename = 'DecisionTreeClassifier.sav'\n",
    "    selectedPredictors = ['Temperature (C)', 'Apparent Temperature (C)', 'Humidity', 'Wind Bearing (degrees)', 'Visibility (km)', 'Pressure (millibars)']\n",
    "    mod = pickle.load(open(filename, 'rb')) #This is the model that was best\n",
    "    \n",
    "    #Predict the output for the given data\n",
    "    predicted = mod.predict(TestX) #Predict stuff\n",
    "    \n",
    "    #Convert back to the label types\n",
    "    label_map={\n",
    "        1: 'Partly Cloudy',\n",
    "        2: 'Mostly Cloudy',\n",
    "        3: 'Overcast',\n",
    "        4: 'Clear',\n",
    "        5: 'Foggy',\n",
    "    }\n",
    "    \n",
    "    #Put the labels back in replace of their numeric equivilents\n",
    "    df = pd.DataFrame(data=predicted,  columns=[\"predicted\"])\n",
    "    p = df[\"predicted\"].map(label_map)\n",
    "    return p, mod"
   ]
  },
  {
   "cell_type": "code",
   "execution_count": null,
   "metadata": {},
   "outputs": [],
   "source": [
    "#Below is an example of how you can use the above function\n",
    "#You can now use the following to get the predictions from the given testX set\n",
    "testx=pd.read_csv(\"data files/testx.csv\",index_col=0);\n",
    "testy=pd.read_csv(\"data files/testy.csv\",index_col=0);\n",
    "pred = predictFromBestDecisionTreeModel(testx[selectedPredictors])\n",
    "\n",
    "d = pd.concat([testx, testy, pred], axis=1)\n",
    "print(d)"
   ]
  },
  {
   "cell_type": "code",
   "execution_count": 43,
   "metadata": {},
   "outputs": [
    {
     "name": "stdout",
     "output_type": "stream",
     "text": [
      "Accuracy: \n",
      "0.487535145267104\n"
     ]
    }
   ],
   "source": [
    "#Its strange that our best model only used the Visibility column, check what the accuracy is if we use them all\n",
    "trainx=pd.read_csv(\"data files/trainx.csv\",index_col=0);\n",
    "trainy=pd.read_csv(\"data files/trainy.csv\",index_col=0);\n",
    "testx=pd.read_csv(\"data files/testx.csv\",index_col=0);\n",
    "testy=pd.read_csv(\"data files/testy.csv\",index_col=0);\n",
    "\n",
    "selectedPredictors = ['Visibility (km)']\n",
    "\n",
    "Y = trainy['summary']\n",
    "X = trainx[selectedPredictors]\n",
    "\n",
    "m, a = kfoldApproach(5, X, Y)\n",
    "\n",
    "print(\"Accuracy: \")\n",
    "print(a)"
   ]
  },
  {
   "cell_type": "code",
   "execution_count": 49,
   "metadata": {},
   "outputs": [
    {
     "name": "stdout",
     "output_type": "stream",
     "text": [
      "0.4777821886992193\n",
      "0        Partly Cloudy\n",
      "1                Foggy\n",
      "2        Mostly Cloudy\n",
      "3             Overcast\n",
      "4                Foggy\n",
      "             ...      \n",
      "37780    Partly Cloudy\n",
      "37781    Partly Cloudy\n",
      "37782    Partly Cloudy\n",
      "37783    Partly Cloudy\n",
      "37784    Partly Cloudy\n",
      "Name: predicted, Length: 37785, dtype: object\n"
     ]
    }
   ],
   "source": [
    "#Get the accuracy on the reserved test set to be comparable between models\n",
    "testx=pd.read_csv(\"data files/testx.csv\",index_col=0);\n",
    "testy=pd.read_csv(\"data files/testy.csv\",index_col=0);\n",
    "\n",
    "testx = pd.DataFrame(testx['Visibility (km)'])\n",
    "\n",
    "pred, mod = predictFromBestDecisionTreeModel(testx)\n",
    "\n",
    "print(mod.score(testx, testy))"
   ]
  }
 ],
 "metadata": {
  "kernelspec": {
   "display_name": "Python 3",
   "language": "python",
   "name": "python3"
  },
  "language_info": {
   "codemirror_mode": {
    "name": "ipython",
    "version": 3
   },
   "file_extension": ".py",
   "mimetype": "text/x-python",
   "name": "python",
   "nbconvert_exporter": "python",
   "pygments_lexer": "ipython3",
   "version": "3.7.9"
  }
 },
 "nbformat": 4,
 "nbformat_minor": 4
}
