{
 "cells": [
  {
   "cell_type": "code",
   "execution_count": 96,
   "metadata": {},
   "outputs": [],
   "source": [
    "#Import required packages\n",
    "\n",
    "import pandas as pd\n",
    "from sklearn.model_selection import KFold\n",
    "from sklearn.tree import DecisionTreeClassifier\n",
    "import numpy as np # linear algebra\n",
    "from sklearn.model_selection import train_test_split"
   ]
  },
  {
   "cell_type": "code",
   "execution_count": 98,
   "metadata": {},
   "outputs": [
    {
     "data": {
      "text/plain": [
       "Partly Cloudy                          31733\n",
       "Mostly Cloudy                          28094\n",
       "Overcast                               16597\n",
       "Clear                                  10890\n",
       "Foggy                                   7148\n",
       "Breezy and Overcast                      528\n",
       "Breezy and Mostly Cloudy                 516\n",
       "Breezy and Partly Cloudy                 386\n",
       "Dry and Partly Cloudy                     86\n",
       "Windy and Partly Cloudy                   67\n",
       "Light Rain                                63\n",
       "Breezy                                    54\n",
       "Windy and Overcast                        45\n",
       "Humid and Mostly Cloudy                   40\n",
       "Drizzle                                   39\n",
       "Breezy and Foggy                          35\n",
       "Windy and Mostly Cloudy                   35\n",
       "Dry                                       34\n",
       "Humid and Partly Cloudy                   17\n",
       "Dry and Mostly Cloudy                     14\n",
       "Rain                                      10\n",
       "Windy                                      8\n",
       "Humid and Overcast                         7\n",
       "Windy and Foggy                            4\n",
       "Windy and Dry                              1\n",
       "Dangerously Windy and Partly Cloudy        1\n",
       "Breezy and Dry                             1\n",
       "Name: Summary, dtype: int64"
      ]
     },
     "execution_count": 98,
     "metadata": {},
     "output_type": "execute_result"
    }
   ],
   "source": [
    "#I started my work before most recent preprocessing, so my program expects a unified dataset rather than x y split\n",
    "d1 = pd.read_csv(\".csv\")\n",
    "d2 = pd.read_csv(\"wh.csv\")\n",
    "\n",
    "#data.head()\n",
    "data = pd.concat([d1, d2], axis=1)\n",
    "#data['precip'] = np.where(data['Precip Type']!= 'snow', 1, 0)\n",
    "\n",
    "data['Summary'].value_counts()"
   ]
  },
  {
   "cell_type": "code",
   "execution_count": 99,
   "metadata": {},
   "outputs": [],
   "source": [
    "b = ['Partly Cloudy','Mostly Cloudy','Overcast','Clear','Foggy']\n",
    "data = data[data['Summary'].isin(b)]\n",
    "data[\"SummaryCat\"] = data[\"Summary\"].astype('category')\n",
    "data[\"SummaryCat\"] = data[\"SummaryCat\"].cat.codes"
   ]
  },
  {
   "cell_type": "code",
   "execution_count": 103,
   "metadata": {},
   "outputs": [],
   "source": [
    " def trainRound(trainx, trainy, testx, testy):\n",
    "    DecisionTreeClassifier().__init__()\n",
    "    clf = DecisionTreeClassifier()\n",
    "    #clf = clf.__init__(max_depth=20)\n",
    "\n",
    "    #This line doesnt seem to stop running on the full dataset?\n",
    "    clf = clf.fit(trainx, trainy)\n",
    "    clf.score(testx, testy)\n",
    "\n",
    "    predicty = clf.predict(testx)\n",
    "    predY = pd.DataFrame(data=predicty)\n",
    "\n",
    "    testy = pd.DataFrame(data=testy)\n",
    "    df= pd.concat([predY, testy], axis=1)\n",
    "    \n",
    "    x =  clf.score(testx, testy)\n",
    "    #print(x)\n",
    "    return x, clf\n",
    "\n",
    "def kfoldApproach(folds, X, Y):\n",
    "    #trainx, testx, trainy, testy = train_test_split(X, Y, test_size=0.4, random_state=1999)\n",
    "    kf = KFold(n_splits=5, shuffle=True, random_state=1999)\n",
    "    \n",
    "    acuracies = []\n",
    "    models = []\n",
    "    \n",
    "    for train_index, test_index in kf.split(X):\n",
    "        trainx = X[train_index]\n",
    "        testx = X[test_index]\n",
    "        \n",
    "        trainy = Y[train_index]\n",
    "        testy = Y[test_index]\n",
    "        \n",
    "        a, m = trainRound(trainx, trainy, testx, testy)\n",
    "        acuracies.append(a)\n",
    "        models.append(m)\n",
    "        \n",
    "    highestIndex = acuracies.index(max(acuracies))\n",
    "    \n",
    "    selectedModel = models[highestIndex]\n",
    "    selectedAccuracy = acuracies[highestIndex]\n",
    "    \n",
    "    #print('The highest accuracy of the folds is: ')\n",
    "    #print(selectedAccuracy)\n",
    "    \n",
    "    return selectedModel, selectedAccuracy\n",
    " \n",
    "#This function will instead be called below\n",
    "#kfoldApproach(5, X, Y)"
   ]
  },
  {
   "cell_type": "code",
   "execution_count": 111,
   "metadata": {},
   "outputs": [
    {
     "name": "stdout",
     "output_type": "stream",
     "text": [
      "The highest accuracy of the folds and combinations is: \n",
      "0.5068282871056532\n",
      "['Temperature (C)', 'Apparent Temperature (C)', 'Humidity', 'Wind Bearing (degrees)', 'Visibility (km)', 'Pressure (millibars)']\n",
      "Elapsed Time:\n",
      "231.6110715866089\n"
     ]
    }
   ],
   "source": [
    "#Already done above\n",
    "#data = data.drop(['Formatted Date','Daily Summary','Loud Cover', 'Precip Type'],axis=1)\n",
    "\n",
    "import itertools\n",
    "\n",
    "def modelExecution():\n",
    "    a = ['Temperature (C)','Apparent Temperature (C)','Humidity','Wind Speed (km/h)','Wind Bearing (degrees)','Visibility (km)','Pressure (millibars)']\n",
    "    #data = data[data['Summary'].isin(a)]\n",
    "    #data[\"SummaryCat\"] = data[\"Summary\"].astype('category')\n",
    "    #data[\"SummaryCat\"] = data[\"SummaryCat\"].cat.codes\n",
    "\n",
    "    #data.head()\n",
    "    #data['Summary'].value_counts()\n",
    "\n",
    "    #X = np.array(data.drop(['SummaryCat','Summary'],axis=1)) #independent variable\n",
    "    #Y = np.array(data['SummaryCat']) #target variable\n",
    "    #trainx, testx, trainy, testy = train_test_split(X, Y, test_size=0.4, random_state=1999)\n",
    "\n",
    "    acuracies = []\n",
    "    models = []\n",
    "    predictors = []\n",
    "\n",
    "    #Do every combination of input predictors\n",
    "    for L in range(1, len(a)+1):\n",
    "        for subset in itertools.combinations(a, L):\n",
    "            s = list(subset)\n",
    "            #print(s)\n",
    "            X = np.array(data[s]) #independent variable\n",
    "            Y = np.array(data['SummaryCat']) #target variable\n",
    "\n",
    "            trainx, testx, trainy, testy = train_test_split(X, Y, test_size=0.4, random_state=1999)\n",
    "\n",
    "            m, ac= kfoldApproach(5, X, Y)\n",
    "            acuracies.append(ac)\n",
    "            models.append(m)\n",
    "            predictors.append(s)\n",
    "\n",
    "    highestIndex = acuracies.index(max(acuracies))\n",
    "\n",
    "    selectedModel = models[highestIndex]\n",
    "    selectedAccuracy = acuracies[highestIndex]\n",
    "    selectedPredictors = predictors[highestIndex]\n",
    "\n",
    "    print('The highest accuracy of the folds and combinations is: ')\n",
    "    print(selectedAccuracy)\n",
    "    print(selectedPredictors)\n",
    "    \n",
    "import time\n",
    "\n",
    "start = time.time()\n",
    "modelExecution()\n",
    "end = time.time()\n",
    "print(\"Elapsed Time:\")\n",
    "print(end - start)"
   ]
  }
 ],
 "metadata": {
  "kernelspec": {
   "display_name": "Python 3",
   "language": "python",
   "name": "python3"
  },
  "language_info": {
   "codemirror_mode": {
    "name": "ipython",
    "version": 3
   },
   "file_extension": ".py",
   "mimetype": "text/x-python",
   "name": "python",
   "nbconvert_exporter": "python",
   "pygments_lexer": "ipython3",
   "version": "3.7.9"
  }
 },
 "nbformat": 4,
 "nbformat_minor": 4
}
