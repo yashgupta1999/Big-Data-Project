{
 "cells": [
  {
   "cell_type": "code",
   "execution_count": 1,
   "metadata": {},
   "outputs": [],
   "source": [
    "#libraries\n",
    "import pandas as pd\n",
    "import sys \n",
    "import numpy as np # linear algebra\n",
    "from sklearn.model_selection import train_test_split\n",
    "from sklearn.neighbors import KNeighborsClassifier\n",
    "from sklearn.metrics import classification_report, confusion_matrix\n",
    "from sklearn.model_selection import GridSearchCV\n",
    "from sklearn import metrics\n",
    "import matplotlib.pyplot as plt # this is used for the plot the graph \n",
    "import pickle\n",
    "import numpy as np # linear algebra\n",
    "from sklearn.model_selection import train_test_split\n",
    "from sklearn.naive_bayes import GaussianNB\n",
    "from sklearn.preprocessing import PowerTransformer"
   ]
  },
  {
   "cell_type": "code",
   "execution_count": 3,
   "metadata": {},
   "outputs": [],
   "source": [
    "def loadNaiveBayes(testx):\n",
    "    loaded= pickle.load(open(filenamenb,'rb'))\n",
    "    droppedtest=testx.drop(columns=['Temperature (C)'])##,'Apparent Temperature (C)'])\n",
    "    pred=loaded.predict(droppedtest)\n",
    "    \n",
    "    labels={\n",
    "    1: 'Partly Cloudy',\n",
    "    2: 'Mostly Cloudy',\n",
    "    3: 'Overcast',\n",
    "    4: 'Clear',\n",
    "    5: 'Foggy',\n",
    "    }\n",
    "    \n",
    "    lableprint=pd.DataFrame(data=pred,columns=[\"columns\"])\n",
    "    lableprint[\"columns\"]=lableprint[\"columns\"].map(labels)\n",
    "    print(lableprint[\"columns\"])\n"
   ]
  },
  {
   "cell_type": "code",
   "execution_count": 4,
   "metadata": {},
   "outputs": [],
   "source": [
    "def loadKNN(testx):\n",
    "    loaded= pickle.load(open(filenameknn,'rb'))\n",
    "    pred=loaded.predict(testx)\n",
    "    \n",
    "    labels={\n",
    "    1: 'Partly Cloudy',\n",
    "    2: 'Mostly Cloudy',\n",
    "    3: 'Overcast',\n",
    "    4: 'Clear',\n",
    "    5: 'Foggy',\n",
    "    }\n",
    "    \n",
    "    lableprint=pd.DataFrame(data=pred,columns=[\"columns\"])\n",
    "    lableprint[\"columns\"]=lableprint[\"columns\"].map(labels)\n",
    "    print(lableprint[\"columns\"])\n",
    "    "
   ]
  },
  {
   "cell_type": "code",
   "execution_count": 1,
   "metadata": {},
   "outputs": [],
   "source": [
    "def predictFromBestRandomForestModel(TestX):\n",
    "    #Load the model\n",
    "    filename = 'RandomForestClassifier.sav'\n",
    "    selectedPredictors = ['Humidity', 'Wind Speed (km/h)', 'Visibility (km)', 'Pressure (millibars)']\n",
    "    mod = pickle.load(open(filename, 'rb')) #This is the model that was best\n",
    "    \n",
    "    #Predict the output for the given data\n",
    "    predicted = mod.predict(TestX) \n",
    "    \n",
    "    #Convert back to the label types\n",
    "    label_map = {\n",
    "        1: 'Partly Cloudy',\n",
    "        2: 'Mostly Cloudy',\n",
    "        3: 'Overcast',\n",
    "        4: 'Clear',\n",
    "        5: 'Foggy',\n",
    "    }\n",
    "    \n",
    "    #Put the labels back in replace of their numeric equivilents\n",
    "    df = pd.DataFrame(data=predicted,  columns=[\"predicted\"])\n",
    "    p = df[\"predicted\"].map(label_map)\n",
    "    return p"
   ]
  },
  {
   "cell_type": "code",
   "execution_count": null,
   "metadata": {},
   "outputs": [],
   "source": [
    "def predictFromBestDecisionTreeModel(TestX):\n",
    "    #Load the model\n",
    "    filename = 'DecisionTreeClassifier.sav'\n",
    "    selectedPredictors = ['Temperature (C)', 'Apparent Temperature (C)', 'Humidity', 'Wind Bearing (degrees)', 'Visibility (km)', 'Pressure (millibars)']\n",
    "    mod = pickle.load(open(filename, 'rb')) #This is the model that was best\n",
    "    \n",
    "    #Predict the output for the given data\n",
    "    predicted = mod.predict(TestX) #Predict stuff\n",
    "    \n",
    "    #Convert back to the label types\n",
    "    label_map={\n",
    "        1: 'Partly Cloudy',\n",
    "        2: 'Mostly Cloudy',\n",
    "        3: 'Overcast',\n",
    "        4: 'Clear',\n",
    "        5: 'Foggy',\n",
    "    }\n",
    "    \n",
    "    #Put the labels back in replace of their numeric equivilents\n",
    "    df = pd.DataFrame(data=predicted,  columns=[\"predicted\"])\n",
    "    p = df[\"predicted\"].map(label_map)\n",
    "    return p"
   ]
  }
 ],
 "metadata": {
  "kernelspec": {
   "display_name": "Python 3",
   "language": "python",
   "name": "python3"
  },
  "language_info": {
   "codemirror_mode": {
    "name": "ipython",
    "version": 3
   },
   "file_extension": ".py",
   "mimetype": "text/x-python",
   "name": "python",
   "nbconvert_exporter": "python",
   "pygments_lexer": "ipython3",
   "version": "3.7.9"
  }
 },
 "nbformat": 4,
 "nbformat_minor": 4
}
