{
 "cells": [
  {
   "cell_type": "code",
   "execution_count": 40,
   "metadata": {},
   "outputs": [],
   "source": [
    "#libraries\n",
    "import pandas as pd\n",
    "import sys \n",
    "from imblearn.over_sampling import SMOTE\n",
    "import seaborn as sns # used for plot interactive graph. \n",
    "import numpy as np # linear algebra\n",
    "from scipy.stats import randint\n",
    "from sklearn.model_selection import train_test_split\n",
    "from sklearn.neighbors import KNeighborsClassifier\n",
    "from sklearn.metrics import classification_report, confusion_matrix\n",
    "from sklearn import metrics\n",
    "import matplotlib.pyplot as plt # this is used for the plot the graph "
   ]
  },
  {
   "cell_type": "code",
   "execution_count": 24,
   "metadata": {},
   "outputs": [],
   "source": [
    "testx=pd.read_csv(\"data files/testx.csv\",index_col=0);\n",
    "testy=pd.read_csv(\"data files/testy.csv\",index_col=0);\n",
    "trainx=pd.read_csv(\"data files/trainx.csv\",index_col=0);\n",
    "trainy=pd.read_csv(\"data files/trainy.csv\",index_col=0);"
   ]
  },
  {
   "cell_type": "code",
   "execution_count": 25,
   "metadata": {},
   "outputs": [
    {
     "data": {
      "text/html": [
       "<div>\n",
       "<style scoped>\n",
       "    .dataframe tbody tr th:only-of-type {\n",
       "        vertical-align: middle;\n",
       "    }\n",
       "\n",
       "    .dataframe tbody tr th {\n",
       "        vertical-align: top;\n",
       "    }\n",
       "\n",
       "    .dataframe thead th {\n",
       "        text-align: right;\n",
       "    }\n",
       "</style>\n",
       "<table border=\"1\" class=\"dataframe\">\n",
       "  <thead>\n",
       "    <tr style=\"text-align: right;\">\n",
       "      <th></th>\n",
       "      <th>Temperature (C)</th>\n",
       "      <th>Apparent Temperature (C)</th>\n",
       "      <th>Humidity</th>\n",
       "      <th>Wind Speed (km/h)</th>\n",
       "      <th>Wind Bearing (degrees)</th>\n",
       "      <th>Visibility (km)</th>\n",
       "      <th>Pressure (millibars)</th>\n",
       "      <th>precip</th>\n",
       "    </tr>\n",
       "  </thead>\n",
       "  <tbody>\n",
       "    <tr>\n",
       "      <th>0</th>\n",
       "      <td>15.905556</td>\n",
       "      <td>15.905556</td>\n",
       "      <td>0.88</td>\n",
       "      <td>26.3879</td>\n",
       "      <td>358.0</td>\n",
       "      <td>11.0446</td>\n",
       "      <td>1006.64</td>\n",
       "      <td>1.0</td>\n",
       "    </tr>\n",
       "    <tr>\n",
       "      <th>1</th>\n",
       "      <td>11.527778</td>\n",
       "      <td>11.527778</td>\n",
       "      <td>0.87</td>\n",
       "      <td>16.5830</td>\n",
       "      <td>128.0</td>\n",
       "      <td>7.7280</td>\n",
       "      <td>1014.28</td>\n",
       "      <td>1.0</td>\n",
       "    </tr>\n",
       "    <tr>\n",
       "      <th>2</th>\n",
       "      <td>-3.905556</td>\n",
       "      <td>-3.905556</td>\n",
       "      <td>0.92</td>\n",
       "      <td>3.1717</td>\n",
       "      <td>174.0</td>\n",
       "      <td>0.1771</td>\n",
       "      <td>1024.26</td>\n",
       "      <td>0.0</td>\n",
       "    </tr>\n",
       "    <tr>\n",
       "      <th>3</th>\n",
       "      <td>13.333333</td>\n",
       "      <td>13.333333</td>\n",
       "      <td>0.91</td>\n",
       "      <td>6.9552</td>\n",
       "      <td>35.0</td>\n",
       "      <td>14.3290</td>\n",
       "      <td>1018.11</td>\n",
       "      <td>1.0</td>\n",
       "    </tr>\n",
       "    <tr>\n",
       "      <th>4</th>\n",
       "      <td>12.600000</td>\n",
       "      <td>12.600000</td>\n",
       "      <td>0.84</td>\n",
       "      <td>3.2200</td>\n",
       "      <td>310.0</td>\n",
       "      <td>9.9820</td>\n",
       "      <td>1020.41</td>\n",
       "      <td>1.0</td>\n",
       "    </tr>\n",
       "  </tbody>\n",
       "</table>\n",
       "</div>"
      ],
      "text/plain": [
       "   Temperature (C)  Apparent Temperature (C)  Humidity  Wind Speed (km/h)  \\\n",
       "0        15.905556                 15.905556      0.88            26.3879   \n",
       "1        11.527778                 11.527778      0.87            16.5830   \n",
       "2        -3.905556                 -3.905556      0.92             3.1717   \n",
       "3        13.333333                 13.333333      0.91             6.9552   \n",
       "4        12.600000                 12.600000      0.84             3.2200   \n",
       "\n",
       "   Wind Bearing (degrees)  Visibility (km)  Pressure (millibars)  precip  \n",
       "0                   358.0          11.0446               1006.64     1.0  \n",
       "1                   128.0           7.7280               1014.28     1.0  \n",
       "2                   174.0           0.1771               1024.26     0.0  \n",
       "3                    35.0          14.3290               1018.11     1.0  \n",
       "4                   310.0           9.9820               1020.41     1.0  "
      ]
     },
     "execution_count": 25,
     "metadata": {},
     "output_type": "execute_result"
    }
   ],
   "source": [
    "testx.head()\n"
   ]
  },
  {
   "cell_type": "code",
   "execution_count": 26,
   "metadata": {},
   "outputs": [
    {
     "data": {
      "text/html": [
       "<div>\n",
       "<style scoped>\n",
       "    .dataframe tbody tr th:only-of-type {\n",
       "        vertical-align: middle;\n",
       "    }\n",
       "\n",
       "    .dataframe tbody tr th {\n",
       "        vertical-align: top;\n",
       "    }\n",
       "\n",
       "    .dataframe thead th {\n",
       "        text-align: right;\n",
       "    }\n",
       "</style>\n",
       "<table border=\"1\" class=\"dataframe\">\n",
       "  <thead>\n",
       "    <tr style=\"text-align: right;\">\n",
       "      <th></th>\n",
       "      <th>Temperature (C)</th>\n",
       "      <th>Apparent Temperature (C)</th>\n",
       "      <th>Humidity</th>\n",
       "      <th>Wind Speed (km/h)</th>\n",
       "      <th>Wind Bearing (degrees)</th>\n",
       "      <th>Visibility (km)</th>\n",
       "      <th>Pressure (millibars)</th>\n",
       "      <th>precip</th>\n",
       "    </tr>\n",
       "  </thead>\n",
       "  <tbody>\n",
       "    <tr>\n",
       "      <th>0</th>\n",
       "      <td>27.777778</td>\n",
       "      <td>26.966667</td>\n",
       "      <td>0.31</td>\n",
       "      <td>4.1860</td>\n",
       "      <td>270.0</td>\n",
       "      <td>16.1000</td>\n",
       "      <td>1016.80</td>\n",
       "      <td>1.0</td>\n",
       "    </tr>\n",
       "    <tr>\n",
       "      <th>1</th>\n",
       "      <td>12.072222</td>\n",
       "      <td>12.072222</td>\n",
       "      <td>0.64</td>\n",
       "      <td>13.6850</td>\n",
       "      <td>210.0</td>\n",
       "      <td>16.1000</td>\n",
       "      <td>1016.88</td>\n",
       "      <td>1.0</td>\n",
       "    </tr>\n",
       "    <tr>\n",
       "      <th>2</th>\n",
       "      <td>17.550000</td>\n",
       "      <td>17.550000</td>\n",
       "      <td>0.74</td>\n",
       "      <td>7.7763</td>\n",
       "      <td>171.0</td>\n",
       "      <td>9.9820</td>\n",
       "      <td>1013.55</td>\n",
       "      <td>1.0</td>\n",
       "    </tr>\n",
       "    <tr>\n",
       "      <th>3</th>\n",
       "      <td>15.088889</td>\n",
       "      <td>15.088889</td>\n",
       "      <td>0.93</td>\n",
       "      <td>3.4615</td>\n",
       "      <td>97.0</td>\n",
       "      <td>11.4471</td>\n",
       "      <td>1006.14</td>\n",
       "      <td>1.0</td>\n",
       "    </tr>\n",
       "    <tr>\n",
       "      <th>4</th>\n",
       "      <td>22.233333</td>\n",
       "      <td>22.233333</td>\n",
       "      <td>0.76</td>\n",
       "      <td>5.7155</td>\n",
       "      <td>57.0</td>\n",
       "      <td>6.1019</td>\n",
       "      <td>1014.39</td>\n",
       "      <td>1.0</td>\n",
       "    </tr>\n",
       "  </tbody>\n",
       "</table>\n",
       "</div>"
      ],
      "text/plain": [
       "   Temperature (C)  Apparent Temperature (C)  Humidity  Wind Speed (km/h)  \\\n",
       "0        27.777778                 26.966667      0.31             4.1860   \n",
       "1        12.072222                 12.072222      0.64            13.6850   \n",
       "2        17.550000                 17.550000      0.74             7.7763   \n",
       "3        15.088889                 15.088889      0.93             3.4615   \n",
       "4        22.233333                 22.233333      0.76             5.7155   \n",
       "\n",
       "   Wind Bearing (degrees)  Visibility (km)  Pressure (millibars)  precip  \n",
       "0                   270.0          16.1000               1016.80     1.0  \n",
       "1                   210.0          16.1000               1016.88     1.0  \n",
       "2                   171.0           9.9820               1013.55     1.0  \n",
       "3                    97.0          11.4471               1006.14     1.0  \n",
       "4                    57.0           6.1019               1014.39     1.0  "
      ]
     },
     "execution_count": 26,
     "metadata": {},
     "output_type": "execute_result"
    }
   ],
   "source": [
    "trainx.head()\n"
   ]
  },
  {
   "cell_type": "code",
   "execution_count": 27,
   "metadata": {},
   "outputs": [
    {
     "data": {
      "text/html": [
       "<div>\n",
       "<style scoped>\n",
       "    .dataframe tbody tr th:only-of-type {\n",
       "        vertical-align: middle;\n",
       "    }\n",
       "\n",
       "    .dataframe tbody tr th {\n",
       "        vertical-align: top;\n",
       "    }\n",
       "\n",
       "    .dataframe thead th {\n",
       "        text-align: right;\n",
       "    }\n",
       "</style>\n",
       "<table border=\"1\" class=\"dataframe\">\n",
       "  <thead>\n",
       "    <tr style=\"text-align: right;\">\n",
       "      <th></th>\n",
       "      <th>summary</th>\n",
       "    </tr>\n",
       "  </thead>\n",
       "  <tbody>\n",
       "    <tr>\n",
       "      <th>0</th>\n",
       "      <td>1</td>\n",
       "    </tr>\n",
       "    <tr>\n",
       "      <th>1</th>\n",
       "      <td>1</td>\n",
       "    </tr>\n",
       "    <tr>\n",
       "      <th>2</th>\n",
       "      <td>1</td>\n",
       "    </tr>\n",
       "    <tr>\n",
       "      <th>3</th>\n",
       "      <td>2</td>\n",
       "    </tr>\n",
       "    <tr>\n",
       "      <th>4</th>\n",
       "      <td>1</td>\n",
       "    </tr>\n",
       "  </tbody>\n",
       "</table>\n",
       "</div>"
      ],
      "text/plain": [
       "   summary\n",
       "0        1\n",
       "1        1\n",
       "2        1\n",
       "3        2\n",
       "4        1"
      ]
     },
     "execution_count": 27,
     "metadata": {},
     "output_type": "execute_result"
    }
   ],
   "source": [
    "trainy.head()"
   ]
  },
  {
   "cell_type": "code",
   "execution_count": 47,
   "metadata": {},
   "outputs": [
    {
     "name": "stdout",
     "output_type": "stream",
     "text": [
      "max accuracy of 0.4762364105639127 at k= 19\n"
     ]
    },
    {
     "data": {
      "image/png": "[encoded data removed]",
      "text/plain": [
       "<Figure size 720x360 with 1 Axes>"
      ]
     },
     "metadata": {
      "needs_background": "light"
     },
     "output_type": "display_data"
    }
   ],
   "source": [
    "#we want the maximum accuracy for the model, deciding best k value\n",
    "accuracy=[];#array for all the accuracies for the different k values\n",
    "\n",
    "for i in range(1,50):#test all k values from 1 to 50\n",
    "    classifier=KNeighborsClassifier(n_neighbors=i);\n",
    "    classifier.fit(trainx,trainy.values.ravel());\n",
    "    prediction=classifier.predict(testx);#predict the value\n",
    "    accuracy.append(metrics.accuracy_score(testy,prediction));#add accuracy to the array\n",
    "    \n",
    "\n",
    "#plot k value vs accuracy     \n",
    "plt.figure(figsize=(10,5));\n",
    "plt.plot(range(1,50),accuracy,color='blue', linestyle='-', marker='*', markerfacecolor='green',markersize=4);\n",
    "plt.xlabel('k value');\n",
    "plt.ylabel('accuracy');\n",
    "print(\"max accuracy of\", max(accuracy),\"at k=\",accuracy.index(max(accuracy)));"
   ]
  },
  {
   "cell_type": "code",
   "execution_count": 29,
   "metadata": {},
   "outputs": [],
   "source": [
    "#lines below this were the first attempt of implementing knn with k=5\n",
    "\n",
    "classifier=KNeighborsClassifier(n_neighbors=5);\n",
    "classifier.fit(trainx,trainy.values.ravel());"
   ]
  },
  {
   "cell_type": "code",
   "execution_count": 30,
   "metadata": {},
   "outputs": [],
   "source": [
    "prediction=classifier.predict(testx)"
   ]
  },
  {
   "cell_type": "code",
   "execution_count": 32,
   "metadata": {},
   "outputs": [
    {
     "name": "stdout",
     "output_type": "stream",
     "text": [
      "[3 3 5 ... 2 3 2]\n"
     ]
    }
   ],
   "source": [
    "print (prediction)\n"
   ]
  },
  {
   "cell_type": "code",
   "execution_count": 35,
   "metadata": {},
   "outputs": [
    {
     "name": "stdout",
     "output_type": "stream",
     "text": [
      "[[7894 3302  790  732   73    0    2    3]\n",
      " [5003 4505 1243  415   74    7    3    3]\n",
      " [1653 2127 2330  214  246    7    0    1]\n",
      " [2185  909  330  875   89    0    0    1]\n",
      " [  88  132  415   87 2082    0    0    0]\n",
      " [  18   29   37    1    1   67   29   13]\n",
      " [  19   37   15    0    0   43   64   29]\n",
      " [  25   19    4    3    0    5   24   55]]\n",
      "              precision    recall  f1-score   support\n",
      "\n",
      "           1       0.47      0.62      0.53     12796\n",
      "           2       0.41      0.40      0.40     11253\n",
      "           3       0.45      0.35      0.40      6578\n",
      "           4       0.38      0.20      0.26      4389\n",
      "           5       0.81      0.74      0.78      2804\n",
      "           6       0.52      0.34      0.41       195\n",
      "           7       0.52      0.31      0.39       207\n",
      "           8       0.52      0.41      0.46       135\n",
      "\n",
      "    accuracy                           0.47     38357\n",
      "   macro avg       0.51      0.42      0.45     38357\n",
      "weighted avg       0.46      0.47      0.46     38357\n",
      "\n"
     ]
    }
   ],
   "source": [
    "print(confusion_matrix(testy,prediction))\n",
    "print(classification_report(testy,prediction))"
   ]
  },
  {
   "cell_type": "code",
   "execution_count": null,
   "metadata": {},
   "outputs": [],
   "source": []
  }
 ],
 "metadata": {
  "kernelspec": {
   "display_name": "Python 3",
   "language": "python",
   "name": "python3"
  },
  "language_info": {
   "codemirror_mode": {
    "name": "ipython",
    "version": 3
   },
   "file_extension": ".py",
   "mimetype": "text/x-python",
   "name": "python",
   "nbconvert_exporter": "python",
   "pygments_lexer": "ipython3",
   "version": "3.6.12"
  }
 },
 "nbformat": 4,
 "nbformat_minor": 4
}
