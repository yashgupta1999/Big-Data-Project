{
 "cells": [
  {
   "cell_type": "markdown",
   "metadata": {},
   "source": [
    "#------------------------Header Comment ----------------------#\n",
    "#write general information about the script#\n",
    "The script performs classfication using ANN or MLP\n",
    "#the authors involved and copyright details, if any#\n",
    "Author - Yash Gupta\n",
    "#--------------------------------------------------------------#"
   ]
  },
  {
   "cell_type": "code",
   "execution_count": 1,
   "metadata": {},
   "outputs": [
    {
     "name": "stderr",
     "output_type": "stream",
     "text": [
      "Using TensorFlow backend.\n"
     ]
    }
   ],
   "source": [
    "\n",
    "# multi-class classification with Keras\n",
    "import pandas as pd\n",
    "import numpy as np\n",
    "import keras\n",
    "import tensorflow as tf\n",
    "import time\n",
    "from keras.models import Sequential\n",
    "from keras.layers import Dense\n",
    "from keras.layers import Dropout\n",
    "from keras.wrappers.scikit_learn import KerasClassifier\n",
    "from keras.utils import np_utils\n",
    "from sklearn.model_selection import cross_val_score\n",
    "from sklearn.model_selection import KFold\n",
    "from sklearn.preprocessing import LabelEncoder\n",
    "from sklearn.pipeline import Pipeline\n",
    "from keras.models import model_from_json\n",
    "import matplotlib.pyplot as plt\n",
    "from sklearn.metrics import accuracy_score"
   ]
  },
  {
   "cell_type": "code",
   "execution_count": 19,
   "metadata": {
    "scrolled": true
   },
   "outputs": [],
   "source": [
    "# load dataset\n",
    "trainx = pd.read_csv('norm_trainx.csv')\n",
    "# trainx = trainx.drop(['Temperature (C)','Apparent Temperature (C)','Wind Bearing (degrees)'],axis=1)\n",
    "trainx = trainx.drop('Unnamed: 0',axis=1);\n",
    "trainy = pd.read_csv('trainy.csv')\n",
    "trainy = trainy.drop('Unnamed: 0',axis=1);\n",
    "\n",
    "\n",
    "testx = pd.read_csv('norm_testx.csv')\n",
    "testx = testx.drop('Unnamed: 0',axis=1);\n",
    "testy = pd.read_csv('testy.csv')\n",
    "testy = testy.drop('Unnamed: 0',axis=1);\n",
    "\n",
    "X = np.array(trainx);\n",
    "Y = np.array(trainy['summary'])\n",
    "# encode class values as integers\n",
    "encoder = LabelEncoder()\n",
    "encoder.fit(Y)\n",
    "encoded_Y = encoder.transform(Y)\n",
    "# convert integers to dummy variables (i.e. one hot encoded)\n",
    "dummy_y = np_utils.to_categorical(encoded_Y)"
   ]
  },
  {
   "cell_type": "code",
   "execution_count": 29,
   "metadata": {
    "scrolled": true
   },
   "outputs": [
    {
     "name": "stdout",
     "output_type": "stream",
     "text": [
      "Train on 35744 samples, validate on 17606 samples\n",
      "Epoch 1/100\n",
      "35744/35744 [==============================] - 0s 6us/step - loss: 1.4802 - accuracy: 0.3471 - val_loss: 1.4170 - val_accuracy: 0.3669\n",
      "Epoch 2/100\n",
      "35744/35744 [==============================] - 0s 2us/step - loss: 1.3842 - accuracy: 0.3580 - val_loss: 1.3263 - val_accuracy: 0.3589\n",
      "Epoch 3/100\n",
      "35744/35744 [==============================] - 0s 2us/step - loss: 1.2977 - accuracy: 0.3775 - val_loss: 1.2584 - val_accuracy: 0.4089\n",
      "Epoch 4/100\n",
      "35744/35744 [==============================] - 0s 2us/step - loss: 1.2430 - accuracy: 0.4489 - val_loss: 1.2143 - val_accuracy: 0.4654\n",
      "Epoch 5/100\n",
      "35744/35744 [==============================] - 0s 2us/step - loss: 1.2000 - accuracy: 0.4671 - val_loss: 1.1660 - val_accuracy: 0.4814\n",
      "Epoch 6/100\n",
      "35744/35744 [==============================] - 0s 2us/step - loss: 1.1668 - accuracy: 0.4815 - val_loss: 1.1418 - val_accuracy: 0.4909\n",
      "Epoch 7/100\n",
      "35744/35744 [==============================] - 0s 2us/step - loss: 1.1474 - accuracy: 0.4871 - val_loss: 1.1250 - val_accuracy: 0.4931\n",
      "Epoch 8/100\n",
      "35744/35744 [==============================] - 0s 2us/step - loss: 1.1328 - accuracy: 0.4897 - val_loss: 1.1231 - val_accuracy: 0.4889\n",
      "Epoch 9/100\n",
      "35744/35744 [==============================] - 0s 2us/step - loss: 1.1251 - accuracy: 0.4891 - val_loss: 1.1014 - val_accuracy: 0.5034\n",
      "Epoch 10/100\n",
      "35744/35744 [==============================] - 0s 2us/step - loss: 1.1101 - accuracy: 0.4962 - val_loss: 1.0943 - val_accuracy: 0.5053\n",
      "Epoch 11/100\n",
      "35744/35744 [==============================] - 0s 2us/step - loss: 1.1021 - accuracy: 0.5003 - val_loss: 1.0865 - val_accuracy: 0.5056\n",
      "Epoch 12/100\n",
      "35744/35744 [==============================] - 0s 2us/step - loss: 1.0996 - accuracy: 0.4995 - val_loss: 1.0843 - val_accuracy: 0.5094\n",
      "Epoch 13/100\n",
      "35744/35744 [==============================] - 0s 2us/step - loss: 1.0979 - accuracy: 0.5012 - val_loss: 1.0850 - val_accuracy: 0.5084\n",
      "Epoch 14/100\n",
      "35744/35744 [==============================] - 0s 2us/step - loss: 1.0951 - accuracy: 0.5008 - val_loss: 1.0850 - val_accuracy: 0.5082\n",
      "Epoch 15/100\n",
      "35744/35744 [==============================] - 0s 2us/step - loss: 1.0960 - accuracy: 0.5014 - val_loss: 1.0805 - val_accuracy: 0.5088\n",
      "Epoch 16/100\n",
      "35744/35744 [==============================] - 0s 2us/step - loss: 1.0942 - accuracy: 0.5014 - val_loss: 1.0781 - val_accuracy: 0.5108\n",
      "Epoch 17/100\n",
      "35744/35744 [==============================] - 0s 2us/step - loss: 1.0902 - accuracy: 0.5017 - val_loss: 1.0798 - val_accuracy: 0.5086\n",
      "Epoch 18/100\n",
      "35744/35744 [==============================] - 0s 2us/step - loss: 1.0891 - accuracy: 0.5038 - val_loss: 1.0741 - val_accuracy: 0.5108\n",
      "Epoch 19/100\n",
      "35744/35744 [==============================] - 0s 2us/step - loss: 1.0893 - accuracy: 0.5023 - val_loss: 1.0744 - val_accuracy: 0.5102\n",
      "Epoch 20/100\n",
      "35744/35744 [==============================] - 0s 2us/step - loss: 1.0856 - accuracy: 0.5037 - val_loss: 1.0735 - val_accuracy: 0.5111\n",
      "Epoch 21/100\n",
      "35744/35744 [==============================] - 0s 2us/step - loss: 1.0838 - accuracy: 0.5030 - val_loss: 1.0713 - val_accuracy: 0.5114\n",
      "Epoch 22/100\n",
      "35744/35744 [==============================] - 0s 2us/step - loss: 1.0858 - accuracy: 0.5022 - val_loss: 1.0715 - val_accuracy: 0.5097\n",
      "Epoch 23/100\n",
      "35744/35744 [==============================] - 0s 2us/step - loss: 1.0830 - accuracy: 0.5041 - val_loss: 1.0677 - val_accuracy: 0.5112\n",
      "Epoch 24/100\n",
      "35744/35744 [==============================] - 0s 2us/step - loss: 1.0823 - accuracy: 0.5052 - val_loss: 1.0695 - val_accuracy: 0.5080\n",
      "Epoch 25/100\n",
      "35744/35744 [==============================] - 0s 2us/step - loss: 1.0827 - accuracy: 0.5051 - val_loss: 1.0695 - val_accuracy: 0.5113\n",
      "Epoch 26/100\n",
      "35744/35744 [==============================] - 0s 2us/step - loss: 1.0808 - accuracy: 0.5043 - val_loss: 1.0686 - val_accuracy: 0.5117\n",
      "Epoch 27/100\n",
      "35744/35744 [==============================] - 0s 2us/step - loss: 1.0780 - accuracy: 0.5052 - val_loss: 1.0639 - val_accuracy: 0.5113\n",
      "Epoch 28/100\n",
      "35744/35744 [==============================] - 0s 2us/step - loss: 1.0767 - accuracy: 0.5065 - val_loss: 1.0663 - val_accuracy: 0.5117\n",
      "Epoch 29/100\n",
      "35744/35744 [==============================] - 0s 2us/step - loss: 1.0789 - accuracy: 0.5050 - val_loss: 1.0649 - val_accuracy: 0.5124\n",
      "Epoch 30/100\n",
      "35744/35744 [==============================] - 0s 2us/step - loss: 1.0784 - accuracy: 0.5050 - val_loss: 1.0664 - val_accuracy: 0.5102\n",
      "Epoch 31/100\n",
      "35744/35744 [==============================] - 0s 2us/step - loss: 1.0775 - accuracy: 0.5021 - val_loss: 1.0677 - val_accuracy: 0.5074\n",
      "Epoch 32/100\n",
      "35744/35744 [==============================] - 0s 2us/step - loss: 1.0747 - accuracy: 0.5049 - val_loss: 1.0614 - val_accuracy: 0.5130\n",
      "Epoch 33/100\n",
      "35744/35744 [==============================] - 0s 2us/step - loss: 1.0734 - accuracy: 0.5059 - val_loss: 1.0620 - val_accuracy: 0.5152\n",
      "Epoch 34/100\n",
      "35744/35744 [==============================] - 0s 2us/step - loss: 1.0732 - accuracy: 0.5068 - val_loss: 1.0648 - val_accuracy: 0.5132\n",
      "Epoch 35/100\n",
      "35744/35744 [==============================] - 0s 2us/step - loss: 1.0736 - accuracy: 0.5071 - val_loss: 1.0628 - val_accuracy: 0.5120\n",
      "Epoch 36/100\n",
      "35744/35744 [==============================] - 0s 2us/step - loss: 1.0738 - accuracy: 0.5058 - val_loss: 1.0639 - val_accuracy: 0.5129\n",
      "Epoch 37/100\n",
      "35744/35744 [==============================] - 0s 2us/step - loss: 1.0735 - accuracy: 0.5067 - val_loss: 1.0614 - val_accuracy: 0.5132\n",
      "Epoch 38/100\n",
      "35744/35744 [==============================] - 0s 2us/step - loss: 1.0719 - accuracy: 0.5062 - val_loss: 1.0586 - val_accuracy: 0.5156\n",
      "Epoch 39/100\n",
      "35744/35744 [==============================] - 0s 2us/step - loss: 1.0699 - accuracy: 0.5069 - val_loss: 1.0639 - val_accuracy: 0.5119\n",
      "Epoch 40/100\n",
      "35744/35744 [==============================] - 0s 2us/step - loss: 1.0708 - accuracy: 0.5066 - val_loss: 1.0595 - val_accuracy: 0.5140\n",
      "Epoch 41/100\n",
      "35744/35744 [==============================] - 0s 2us/step - loss: 1.0707 - accuracy: 0.5064 - val_loss: 1.0595 - val_accuracy: 0.5138\n",
      "Epoch 42/100\n",
      "35744/35744 [==============================] - 0s 2us/step - loss: 1.0701 - accuracy: 0.5068 - val_loss: 1.0618 - val_accuracy: 0.5127\n",
      "Epoch 43/100\n",
      "35744/35744 [==============================] - 0s 2us/step - loss: 1.0714 - accuracy: 0.5067 - val_loss: 1.0631 - val_accuracy: 0.5114\n",
      "Epoch 44/100\n",
      "35744/35744 [==============================] - 0s 2us/step - loss: 1.0742 - accuracy: 0.5059 - val_loss: 1.0585 - val_accuracy: 0.5167\n",
      "Epoch 45/100\n",
      "35744/35744 [==============================] - 0s 2us/step - loss: 1.0683 - accuracy: 0.5065 - val_loss: 1.0585 - val_accuracy: 0.5147\n",
      "Epoch 46/100\n",
      "35744/35744 [==============================] - 0s 2us/step - loss: 1.0688 - accuracy: 0.5087 - val_loss: 1.0571 - val_accuracy: 0.5145\n",
      "Epoch 47/100\n",
      "35744/35744 [==============================] - 0s 2us/step - loss: 1.0696 - accuracy: 0.5086 - val_loss: 1.0583 - val_accuracy: 0.5137\n",
      "Epoch 48/100\n",
      "35744/35744 [==============================] - 0s 2us/step - loss: 1.0688 - accuracy: 0.5072 - val_loss: 1.0672 - val_accuracy: 0.5116\n",
      "Epoch 49/100\n",
      "35744/35744 [==============================] - 0s 2us/step - loss: 1.0737 - accuracy: 0.5051 - val_loss: 1.0666 - val_accuracy: 0.5122\n",
      "Epoch 50/100\n",
      "35744/35744 [==============================] - 0s 2us/step - loss: 1.0668 - accuracy: 0.5102 - val_loss: 1.0613 - val_accuracy: 0.5113\n",
      "Epoch 51/100\n",
      "35744/35744 [==============================] - 0s 2us/step - loss: 1.0679 - accuracy: 0.5074 - val_loss: 1.0590 - val_accuracy: 0.5145\n",
      "Epoch 52/100\n",
      "35744/35744 [==============================] - 0s 2us/step - loss: 1.0640 - accuracy: 0.5102 - val_loss: 1.0562 - val_accuracy: 0.5148\n",
      "Epoch 53/100\n",
      "35744/35744 [==============================] - 0s 2us/step - loss: 1.0640 - accuracy: 0.5095 - val_loss: 1.0539 - val_accuracy: 0.5159\n",
      "Epoch 54/100\n",
      "35744/35744 [==============================] - 0s 2us/step - loss: 1.0650 - accuracy: 0.5093 - val_loss: 1.0645 - val_accuracy: 0.5120\n",
      "Epoch 55/100\n",
      "35744/35744 [==============================] - 0s 2us/step - loss: 1.0687 - accuracy: 0.5071 - val_loss: 1.0557 - val_accuracy: 0.5149\n",
      "Epoch 56/100\n"
     ]
    },
    {
     "name": "stdout",
     "output_type": "stream",
     "text": [
      "35744/35744 [==============================] - 0s 2us/step - loss: 1.0661 - accuracy: 0.5093 - val_loss: 1.0553 - val_accuracy: 0.5167\n",
      "Epoch 57/100\n",
      "35744/35744 [==============================] - 0s 2us/step - loss: 1.0644 - accuracy: 0.5097 - val_loss: 1.0541 - val_accuracy: 0.5178\n",
      "Epoch 58/100\n",
      "35744/35744 [==============================] - 0s 2us/step - loss: 1.0638 - accuracy: 0.5097 - val_loss: 1.0565 - val_accuracy: 0.5161\n",
      "Epoch 59/100\n",
      "35744/35744 [==============================] - ETA: 0s - loss: 1.0654 - accuracy: 0.50 - 0s 3us/step - loss: 1.0646 - accuracy: 0.5109 - val_loss: 1.0650 - val_accuracy: 0.5147\n",
      "Epoch 60/100\n",
      "35744/35744 [==============================] - 0s 2us/step - loss: 1.0660 - accuracy: 0.5095 - val_loss: 1.0551 - val_accuracy: 0.5156\n",
      "Epoch 61/100\n",
      "35744/35744 [==============================] - 0s 2us/step - loss: 1.0631 - accuracy: 0.5103 - val_loss: 1.0557 - val_accuracy: 0.5165\n",
      "Epoch 62/100\n",
      "35744/35744 [==============================] - 0s 2us/step - loss: 1.0636 - accuracy: 0.5085 - val_loss: 1.0522 - val_accuracy: 0.5196\n",
      "Epoch 63/100\n",
      "35744/35744 [==============================] - 0s 2us/step - loss: 1.0636 - accuracy: 0.5103 - val_loss: 1.0536 - val_accuracy: 0.5189\n",
      "Epoch 64/100\n",
      "35744/35744 [==============================] - 0s 2us/step - loss: 1.0623 - accuracy: 0.5115 - val_loss: 1.0538 - val_accuracy: 0.5141\n",
      "Epoch 65/100\n",
      "35744/35744 [==============================] - 0s 2us/step - loss: 1.0629 - accuracy: 0.5096 - val_loss: 1.0541 - val_accuracy: 0.5187\n",
      "Epoch 66/100\n",
      "35744/35744 [==============================] - 0s 2us/step - loss: 1.0624 - accuracy: 0.5118 - val_loss: 1.0548 - val_accuracy: 0.5158\n",
      "Epoch 67/100\n",
      "35744/35744 [==============================] - 0s 2us/step - loss: 1.0620 - accuracy: 0.5107 - val_loss: 1.0525 - val_accuracy: 0.5200\n",
      "Epoch 68/100\n",
      "35744/35744 [==============================] - 0s 2us/step - loss: 1.0622 - accuracy: 0.5118 - val_loss: 1.0510 - val_accuracy: 0.5185\n",
      "Epoch 69/100\n",
      "35744/35744 [==============================] - 0s 2us/step - loss: 1.0608 - accuracy: 0.5113 - val_loss: 1.0516 - val_accuracy: 0.5178\n",
      "Epoch 70/100\n",
      "35744/35744 [==============================] - 0s 2us/step - loss: 1.0615 - accuracy: 0.5111 - val_loss: 1.0512 - val_accuracy: 0.5192\n",
      "Epoch 71/100\n",
      "35744/35744 [==============================] - 0s 2us/step - loss: 1.0618 - accuracy: 0.5099 - val_loss: 1.0647 - val_accuracy: 0.5145\n",
      "Epoch 72/100\n",
      "35744/35744 [==============================] - 0s 2us/step - loss: 1.0738 - accuracy: 0.5064 - val_loss: 1.0652 - val_accuracy: 0.5133\n",
      "Epoch 73/100\n",
      "35744/35744 [==============================] - 0s 2us/step - loss: 1.0727 - accuracy: 0.5064 - val_loss: 1.0619 - val_accuracy: 0.5099\n",
      "Epoch 74/100\n",
      "35744/35744 [==============================] - 0s 2us/step - loss: 1.0677 - accuracy: 0.5074 - val_loss: 1.0600 - val_accuracy: 0.5164\n",
      "Epoch 75/100\n",
      "35744/35744 [==============================] - 0s 2us/step - loss: 1.0647 - accuracy: 0.5083 - val_loss: 1.0536 - val_accuracy: 0.5171\n",
      "Epoch 76/100\n",
      "35744/35744 [==============================] - 0s 2us/step - loss: 1.0652 - accuracy: 0.5101 - val_loss: 1.0522 - val_accuracy: 0.5188\n",
      "Epoch 77/100\n",
      "35744/35744 [==============================] - 0s 2us/step - loss: 1.0663 - accuracy: 0.5086 - val_loss: 1.0590 - val_accuracy: 0.5170\n",
      "Epoch 78/100\n",
      "35744/35744 [==============================] - 0s 2us/step - loss: 1.0677 - accuracy: 0.5080 - val_loss: 1.0568 - val_accuracy: 0.5119\n",
      "Epoch 79/100\n",
      "35744/35744 [==============================] - 0s 2us/step - loss: 1.0625 - accuracy: 0.5098 - val_loss: 1.0521 - val_accuracy: 0.5197\n",
      "Epoch 80/100\n",
      "35744/35744 [==============================] - 0s 2us/step - loss: 1.0610 - accuracy: 0.5106 - val_loss: 1.0496 - val_accuracy: 0.5208\n",
      "Epoch 81/100\n",
      "35744/35744 [==============================] - 0s 2us/step - loss: 1.0603 - accuracy: 0.5119 - val_loss: 1.0520 - val_accuracy: 0.5171\n",
      "Epoch 82/100\n",
      "35744/35744 [==============================] - 0s 2us/step - loss: 1.0613 - accuracy: 0.5103 - val_loss: 1.0547 - val_accuracy: 0.5149\n",
      "Epoch 83/100\n",
      "35744/35744 [==============================] - 0s 2us/step - loss: 1.0595 - accuracy: 0.5100 - val_loss: 1.0497 - val_accuracy: 0.5190\n",
      "Epoch 84/100\n",
      "35744/35744 [==============================] - 0s 2us/step - loss: 1.0613 - accuracy: 0.5088 - val_loss: 1.0528 - val_accuracy: 0.5191\n",
      "Epoch 85/100\n",
      "35744/35744 [==============================] - 0s 2us/step - loss: 1.0621 - accuracy: 0.5099 - val_loss: 1.0509 - val_accuracy: 0.5197\n",
      "Epoch 86/100\n",
      "35744/35744 [==============================] - 0s 2us/step - loss: 1.0611 - accuracy: 0.5106 - val_loss: 1.0522 - val_accuracy: 0.5198\n",
      "Epoch 87/100\n",
      "35744/35744 [==============================] - 0s 2us/step - loss: 1.0627 - accuracy: 0.5104 - val_loss: 1.0532 - val_accuracy: 0.5162\n",
      "Epoch 88/100\n",
      "35744/35744 [==============================] - 0s 2us/step - loss: 1.0615 - accuracy: 0.5082 - val_loss: 1.0538 - val_accuracy: 0.5167\n",
      "Epoch 89/100\n",
      "35744/35744 [==============================] - 0s 2us/step - loss: 1.0617 - accuracy: 0.5092 - val_loss: 1.0548 - val_accuracy: 0.5169\n",
      "Epoch 90/100\n",
      "35744/35744 [==============================] - 0s 2us/step - loss: 1.0650 - accuracy: 0.5098 - val_loss: 1.0502 - val_accuracy: 0.5194\n",
      "Epoch 91/100\n",
      "35744/35744 [==============================] - 0s 2us/step - loss: 1.0621 - accuracy: 0.5090 - val_loss: 1.0482 - val_accuracy: 0.5203\n",
      "Epoch 92/100\n",
      "35744/35744 [==============================] - 0s 2us/step - loss: 1.0607 - accuracy: 0.5107 - val_loss: 1.0565 - val_accuracy: 0.5143\n",
      "Epoch 93/100\n",
      "35744/35744 [==============================] - 0s 2us/step - loss: 1.0616 - accuracy: 0.5102 - val_loss: 1.0490 - val_accuracy: 0.5199\n",
      "Epoch 94/100\n",
      "35744/35744 [==============================] - 0s 2us/step - loss: 1.0587 - accuracy: 0.5128 - val_loss: 1.0479 - val_accuracy: 0.5214\n",
      "Epoch 95/100\n",
      "35744/35744 [==============================] - 0s 2us/step - loss: 1.0578 - accuracy: 0.5108 - val_loss: 1.0485 - val_accuracy: 0.5207\n",
      "Epoch 96/100\n",
      "35744/35744 [==============================] - 0s 2us/step - loss: 1.0596 - accuracy: 0.5096 - val_loss: 1.0509 - val_accuracy: 0.5181\n",
      "Epoch 97/100\n",
      "35744/35744 [==============================] - 0s 2us/step - loss: 1.0599 - accuracy: 0.5103 - val_loss: 1.0495 - val_accuracy: 0.5181\n",
      "Epoch 98/100\n",
      "35744/35744 [==============================] - 0s 2us/step - loss: 1.0589 - accuracy: 0.5119 - val_loss: 1.0477 - val_accuracy: 0.5202\n",
      "Epoch 99/100\n",
      "35744/35744 [==============================] - 0s 2us/step - loss: 1.0579 - accuracy: 0.5114 - val_loss: 1.0510 - val_accuracy: 0.5210\n",
      "Epoch 100/100\n",
      "35744/35744 [==============================] - 0s 2us/step - loss: 1.0580 - accuracy: 0.5108 - val_loss: 1.0481 - val_accuracy: 0.5212\n",
      "7.661196231842041\n"
     ]
    },
    {
     "data": {
      "text/plain": [
       "array([2, 4, 1, ..., 0, 0, 1], dtype=int64)"
      ]
     },
     "execution_count": 29,
     "metadata": {},
     "output_type": "execute_result"
    }
   ],
   "source": [
    "import tensorflow\n",
    "tensorflow.random.set_seed(1999)\n",
    "t0 = time.time()\n",
    "\n",
    "# initializing model and training it\n",
    "model = Sequential()\n",
    "model.add(Dense(10, input_dim=7, activation='relu'))\n",
    "model.add(Dense(10, activation='relu'))\n",
    "model.add(Dense(10, activation='relu'))\n",
    "model.add(Dense(10, activation='relu'))\n",
    "model.add(Dense(10, activation='relu'))\n",
    "model.add(Dense(5, activation='softmax'))\n",
    "opt = keras.optimizers.Adam(learning_rate=0.01)\n",
    "model.compile(loss='categorical_crossentropy', optimizer=opt, metrics=['accuracy'])\n",
    "history = model.fit(X,dummy_y,validation_split=0.33,batch_size=3000, epochs = 100)\n",
    "t1 = time.time()\n",
    "total = t1-t0\n",
    "print(total)\n",
    "results = model.predict(testx)\n",
    "ypred = tf.keras.backend.argmax(results).numpy()\n",
    "ypred"
   ]
  },
  {
   "cell_type": "code",
   "execution_count": 30,
   "metadata": {},
   "outputs": [
    {
     "name": "stdout",
     "output_type": "stream",
     "text": [
      "dict_keys(['val_loss', 'val_accuracy', 'loss', 'accuracy'])\n"
     ]
    },
    {
     "data": {
      "image/png": "[encoded data removed]",
      "text/plain": [
       "<Figure size 432x288 with 1 Axes>"
      ]
     },
     "metadata": {
      "needs_background": "light"
     },
     "output_type": "display_data"
    },
    {
     "data": {
      "image/png": "[encoded data removed]",
      "text/plain": [
       "<Figure size 432x288 with 1 Axes>"
      ]
     },
     "metadata": {
      "needs_background": "light"
     },
     "output_type": "display_data"
    }
   ],
   "source": [
    "# list all data in history\n",
    "print(history.history.keys())\n",
    "# summarize history for accuracy\n",
    "plt.plot(history.history['accuracy'])\n",
    "plt.plot(history.history['val_accuracy'])\n",
    "plt.title('model accuracy')\n",
    "plt.ylabel('accuracy')\n",
    "plt.xlabel('epoch')\n",
    "plt.legend(['train', 'test'], loc='upper left')\n",
    "plt.show()\n",
    "# summarize history for loss\n",
    "plt.plot(history.history['loss'])\n",
    "plt.plot(history.history['val_loss'])\n",
    "plt.title('model loss')\n",
    "plt.ylabel('loss')\n",
    "plt.xlabel('epoch')\n",
    "plt.legend(['train', 'test'], loc='upper left')\n",
    "plt.show()"
   ]
  },
  {
   "cell_type": "code",
   "execution_count": 7,
   "metadata": {},
   "outputs": [
    {
     "data": {
      "text/plain": [
       "8.647835969924927"
      ]
     },
     "execution_count": 7,
     "metadata": {},
     "output_type": "execute_result"
    }
   ],
   "source": [
    "total"
   ]
  },
  {
   "cell_type": "code",
   "execution_count": 8,
   "metadata": {},
   "outputs": [
    {
     "name": "stdout",
     "output_type": "stream",
     "text": [
      "Saved model to disk\n"
     ]
    }
   ],
   "source": [
    "# do not save again\n",
    "# serialize model to JSON\n",
    "model_json = model.to_json()\n",
    "with open(\"model.json\", \"w\") as json_file:\n",
    "    json_file.write(model_json)\n",
    "# serialize weights to HDF5\n",
    "model.save_weights(\"Annmodel.h5\")\n",
    "print(\"Saved model to disk\")"
   ]
  },
  {
   "cell_type": "code",
   "execution_count": 18,
   "metadata": {},
   "outputs": [
    {
     "name": "stdout",
     "output_type": "stream",
     "text": [
      "Loaded model from disk\n"
     ]
    }
   ],
   "source": [
    "# load json and create model\n",
    "json_file = open('model.json', 'r')\n",
    "loaded_model_json = json_file.read()\n",
    "json_file.close()\n",
    "lmodel = model_from_json(loaded_model_json)\n",
    "# load weights into new model\n",
    "lmodel.load_weights(\"Annmodel.h5\")\n",
    "print(\"Loaded model from disk\")\n",
    "lmodel.compile(loss='categorical_crossentropy', optimizer='adam', metrics=['accuracy'])"
   ]
  },
  {
   "cell_type": "code",
   "execution_count": 43,
   "metadata": {},
   "outputs": [],
   "source": [
    "def ANN(X):\n",
    "    tX = np.array(X);\n",
    "    json_file = open('model.json', 'r')\n",
    "    loaded_model_json = json_file.read()\n",
    "    json_file.close()\n",
    "    lmodel = model_from_json(loaded_model_json)\n",
    "    lmodel.load_weights(\"Annmodel.h5\")\n",
    "    lmodel.compile(loss='categorical_crossentropy', optimizer='adam', metrics=['accuracy'])\n",
    "    results = lmodel.predict(tX)\n",
    "    predresults = tf.keras.backend.argmax(results).numpy()\n",
    "    data = pd.DataFrame(data=predresults, columns=[\"pred_labels\"])\n",
    "    \n",
    "    label_map = {\n",
    "    0:'Partly Cloudy',\n",
    "    1:'Mostly Cloudy',\n",
    "    2:'Overcast',\n",
    "    3:'Clear',\n",
    "    4:'Foggy',\n",
    "    }\n",
    "    data['pred_labels'] = data['pred_labels'].map(label_map)\n",
    "    return data"
   ]
  }
 ],
 "metadata": {
  "kernelspec": {
   "display_name": "Python 3",
   "language": "python",
   "name": "python3"
  },
  "language_info": {
   "codemirror_mode": {
    "name": "ipython",
    "version": 3
   },
   "file_extension": ".py",
   "mimetype": "text/x-python",
   "name": "python",
   "nbconvert_exporter": "python",
   "pygments_lexer": "ipython3",
   "version": "3.6.10"
  }
 },
 "nbformat": 4,
 "nbformat_minor": 4
}
