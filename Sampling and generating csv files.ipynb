{
 "cells": [
  {
   "cell_type": "code",
   "execution_count": 1,
   "metadata": {},
   "outputs": [],
   "source": [
    "#libraries\n",
    "import pandas as pd\n",
    "import sys \n",
    "from imblearn.over_sampling import SMOTE\n",
    "import seaborn as sns # used for plot interactive graph. \n",
    "import numpy as np # linear algebra\n",
    "from scipy.stats import randint\n",
    "from sklearn.model_selection import train_test_split\n",
    "import matplotlib.pyplot as plt # this is used for the plot the graph \n",
    "%matplotlib inline\n",
    "plt.rcParams[\"figure.figsize\"] = [12, 7]"
   ]
  },
  {
   "cell_type": "code",
   "execution_count": 2,
   "metadata": {},
   "outputs": [],
   "source": [
    "# data = pd.read_csv(\"wh.csv\")\n",
    "# data = data.drop(['Formatted Date','Summary','Daily Summary','Loud Cover'],axis=1)\n",
    "# data['precip'] = np.where(data['Precip Type']!= 'snow', 1, 0)\n",
    "# data = data.drop(['Precip Type'],axis=1)\n",
    "# msk = np.random.rand(len(data)) < 0.8\n",
    "\n",
    "# train = data[msk]\n",
    "\n",
    "# test = data[~msk]\n"
   ]
  },
  {
   "cell_type": "code",
   "execution_count": 3,
   "metadata": {},
   "outputs": [],
   "source": [
    "# #this block will generate test and training data\n",
    "# #importing the dataset\n",
    "# data = pd.read_csv(\"wh.csv\")\n",
    "# data = data.drop(['Formatted Date','Summary','Daily Summary','Loud Cover'],axis=1)\n",
    "# data['precip'] = np.where(data['Precip Type']!= 'snow', 1, 0)\n",
    "# #smote (Synthetic minority oversampling technique)\n",
    "# X = np.array(data.drop(['Precip Type','precip'],axis=1)) #independent variable\n",
    "# Y = np.array(data['precip']) #target variable\n",
    "# trainx1, testx, trainy1, testy = train_test_split(X, Y, test_size=0.4, random_state=1999)\n",
    "# print(\"After OverSampling, counts of label '1': {}\".format(sum(trainy1==1)))\n",
    "# print(\"After OverSampling, counts of label '0': {} \\n\".format(sum(trainy1==0)))\n",
    "# #Sampling the dataset\n",
    "# sm = SMOTE(random_state=1999)\n",
    "# trainx,trainy = sm.fit_sample(trainx1, trainy1.ravel())\n",
    "# print(\"After OverSampling, counts of label '1': {}\".format(sum(trainy==1)))\n",
    "# print(\"After OverSampling, counts of label '0': {} \\n\".format(sum(trainy==0)))\n",
    "# traincol_names = data.drop(['Precip Type','precip'],axis=1).columns\n",
    "# trainx = pd.DataFrame(data=trainx, columns=traincol_names)\n",
    "# trainy = pd.DataFrame(data=trainy, columns=['Precip Type'])\n",
    "# testx = pd.DataFrame(data=testx, columns=traincol_names)\n",
    "# testy = pd.DataFrame(data=testy, columns=['Precip Type'])\n",
    "\n",
    "# trainx.to_csv('trainx.csv');\n",
    "# trainy.to_csv('trainy.csv');\n",
    "# testx.to_csv('testx.csv');\n",
    "# testy.to_csv('testy.csv');"
   ]
  },
  {
   "cell_type": "code",
   "execution_count": 2,
   "metadata": {},
   "outputs": [],
   "source": [
    "#this block will generate test and training data\n",
    "#importing the dataset\n",
    "data = pd.read_csv(\"wh.csv\")\n",
    "data = data.drop(['Formatted Date','Daily Summary','Loud Cover','Precip Type'],axis=1)\n",
    "# data['precip'] = np.where(data['Precip Type']!= 'snow', 1, 0)\n",
    "# data = data.drop(['Precip Type'],axis=1);\n",
    "\n"
   ]
  },
  {
   "cell_type": "code",
   "execution_count": 3,
   "metadata": {},
   "outputs": [
    {
     "data": {
      "text/plain": [
       "Partly Cloudy                          31733\n",
       "Mostly Cloudy                          28094\n",
       "Overcast                               16597\n",
       "Clear                                  10890\n",
       "Foggy                                   7148\n",
       "Breezy and Overcast                      528\n",
       "Breezy and Mostly Cloudy                 516\n",
       "Breezy and Partly Cloudy                 386\n",
       "Dry and Partly Cloudy                     86\n",
       "Windy and Partly Cloudy                   67\n",
       "Light Rain                                63\n",
       "Breezy                                    54\n",
       "Windy and Overcast                        45\n",
       "Humid and Mostly Cloudy                   40\n",
       "Drizzle                                   39\n",
       "Windy and Mostly Cloudy                   35\n",
       "Breezy and Foggy                          35\n",
       "Dry                                       34\n",
       "Humid and Partly Cloudy                   17\n",
       "Dry and Mostly Cloudy                     14\n",
       "Rain                                      10\n",
       "Windy                                      8\n",
       "Humid and Overcast                         7\n",
       "Windy and Foggy                            4\n",
       "Windy and Dry                              1\n",
       "Dangerously Windy and Partly Cloudy        1\n",
       "Breezy and Dry                             1\n",
       "Name: Summary, dtype: int64"
      ]
     },
     "execution_count": 3,
     "metadata": {},
     "output_type": "execute_result"
    }
   ],
   "source": [
    "data['Summary'].value_counts()"
   ]
  },
  {
   "cell_type": "code",
   "execution_count": 4,
   "metadata": {},
   "outputs": [],
   "source": [
    "counts = data['Summary'].value_counts()\n",
    "\n",
    "data = data[~data['Summary'].isin(counts[counts < 7000].index)]"
   ]
  },
  {
   "cell_type": "code",
   "execution_count": 5,
   "metadata": {},
   "outputs": [
    {
     "data": {
      "text/plain": [
       "Partly Cloudy    31733\n",
       "Mostly Cloudy    28094\n",
       "Overcast         16597\n",
       "Clear            10890\n",
       "Foggy             7148\n",
       "Name: Summary, dtype: int64"
      ]
     },
     "execution_count": 5,
     "metadata": {},
     "output_type": "execute_result"
    }
   ],
   "source": [
    "data['Summary'].value_counts()"
   ]
  },
  {
   "cell_type": "code",
   "execution_count": 6,
   "metadata": {},
   "outputs": [],
   "source": [
    "label_map = {\n",
    "    'Partly Cloudy': 1,\n",
    "    'Mostly Cloudy': 2,\n",
    "    'Overcast':3 ,\n",
    "    'Clear': 4,\n",
    "    'Foggy': 5,\n",
    "    'Breezy and Overcast': 6,\n",
    "    'Breezy and Mostly Cloudy': 7,\n",
    "    'Breezy and Partly Cloudy': 8,\n",
    "}\n",
    "data['summary'] = data['Summary'].map(label_map)\n"
   ]
  },
  {
   "cell_type": "code",
   "execution_count": 7,
   "metadata": {},
   "outputs": [
    {
     "data": {
      "text/plain": [
       "1    31733\n",
       "2    28094\n",
       "3    16597\n",
       "4    10890\n",
       "5     7148\n",
       "Name: summary, dtype: int64"
      ]
     },
     "execution_count": 7,
     "metadata": {},
     "output_type": "execute_result"
    }
   ],
   "source": [
    "data['summary'].value_counts()"
   ]
  },
  {
   "cell_type": "code",
   "execution_count": 8,
   "metadata": {},
   "outputs": [],
   "source": [
    "#splitting data for training and testing\n",
    "X = np.array(data.drop(['Summary','summary'],axis=1)) #independent variable\n",
    "Y = np.array(data['summary']) #target variable\n",
    "trainx, testx, trainy, testy = train_test_split(X, Y, test_size=0.4, random_state=333)\n",
    "\n",
    "traincol_names = data.drop(['Summary','summary'],axis=1).columns\n",
    "trainx = pd.DataFrame(data=trainx, columns=traincol_names)\n",
    "trainy = pd.DataFrame(data=trainy, columns=['summary'])\n",
    "testx = pd.DataFrame(data=testx, columns=traincol_names)\n",
    "testy = pd.DataFrame(data=testy, columns=['summary'])\n"
   ]
  },
  {
   "cell_type": "code",
   "execution_count": 9,
   "metadata": {},
   "outputs": [],
   "source": [
    "trainx.to_csv('trainx.csv');\n",
    "trainy.to_csv('trainy.csv');\n",
    "testx.to_csv('testx.csv');\n",
    "testy.to_csv('testy.csv');"
   ]
  },
  {
   "cell_type": "code",
   "execution_count": 11,
   "metadata": {},
   "outputs": [
    {
     "data": {
      "text/html": [
       "<div>\n",
       "<style scoped>\n",
       "    .dataframe tbody tr th:only-of-type {\n",
       "        vertical-align: middle;\n",
       "    }\n",
       "\n",
       "    .dataframe tbody tr th {\n",
       "        vertical-align: top;\n",
       "    }\n",
       "\n",
       "    .dataframe thead th {\n",
       "        text-align: right;\n",
       "    }\n",
       "</style>\n",
       "<table border=\"1\" class=\"dataframe\">\n",
       "  <thead>\n",
       "    <tr style=\"text-align: right;\">\n",
       "      <th></th>\n",
       "      <th>Temperature (C)</th>\n",
       "      <th>Apparent Temperature (C)</th>\n",
       "      <th>Humidity</th>\n",
       "      <th>Wind Speed (km/h)</th>\n",
       "      <th>Wind Bearing (degrees)</th>\n",
       "      <th>Visibility (km)</th>\n",
       "      <th>Pressure (millibars)</th>\n",
       "    </tr>\n",
       "  </thead>\n",
       "  <tbody>\n",
       "    <tr>\n",
       "      <th>0</th>\n",
       "      <td>14.727778</td>\n",
       "      <td>14.727778</td>\n",
       "      <td>0.56</td>\n",
       "      <td>12.4936</td>\n",
       "      <td>151.0</td>\n",
       "      <td>16.1000</td>\n",
       "      <td>1009.03</td>\n",
       "    </tr>\n",
       "    <tr>\n",
       "      <th>1</th>\n",
       "      <td>6.333333</td>\n",
       "      <td>4.577778</td>\n",
       "      <td>0.85</td>\n",
       "      <td>8.5813</td>\n",
       "      <td>145.0</td>\n",
       "      <td>11.4471</td>\n",
       "      <td>1006.98</td>\n",
       "    </tr>\n",
       "    <tr>\n",
       "      <th>2</th>\n",
       "      <td>5.394444</td>\n",
       "      <td>3.055556</td>\n",
       "      <td>0.90</td>\n",
       "      <td>10.4006</td>\n",
       "      <td>296.0</td>\n",
       "      <td>15.1823</td>\n",
       "      <td>1004.15</td>\n",
       "    </tr>\n",
       "    <tr>\n",
       "      <th>3</th>\n",
       "      <td>15.000000</td>\n",
       "      <td>15.000000</td>\n",
       "      <td>0.87</td>\n",
       "      <td>5.7960</td>\n",
       "      <td>189.0</td>\n",
       "      <td>15.8746</td>\n",
       "      <td>1017.15</td>\n",
       "    </tr>\n",
       "    <tr>\n",
       "      <th>4</th>\n",
       "      <td>0.000000</td>\n",
       "      <td>-2.733333</td>\n",
       "      <td>0.69</td>\n",
       "      <td>8.0500</td>\n",
       "      <td>340.0</td>\n",
       "      <td>9.9820</td>\n",
       "      <td>1029.00</td>\n",
       "    </tr>\n",
       "    <tr>\n",
       "      <th>...</th>\n",
       "      <td>...</td>\n",
       "      <td>...</td>\n",
       "      <td>...</td>\n",
       "      <td>...</td>\n",
       "      <td>...</td>\n",
       "      <td>...</td>\n",
       "      <td>...</td>\n",
       "    </tr>\n",
       "    <tr>\n",
       "      <th>56672</th>\n",
       "      <td>3.150000</td>\n",
       "      <td>-0.294444</td>\n",
       "      <td>0.96</td>\n",
       "      <td>13.7172</td>\n",
       "      <td>159.0</td>\n",
       "      <td>6.7942</td>\n",
       "      <td>1006.95</td>\n",
       "    </tr>\n",
       "    <tr>\n",
       "      <th>56673</th>\n",
       "      <td>6.038889</td>\n",
       "      <td>3.122222</td>\n",
       "      <td>0.65</td>\n",
       "      <td>14.5061</td>\n",
       "      <td>291.0</td>\n",
       "      <td>9.9820</td>\n",
       "      <td>1006.86</td>\n",
       "    </tr>\n",
       "    <tr>\n",
       "      <th>56674</th>\n",
       "      <td>18.800000</td>\n",
       "      <td>18.800000</td>\n",
       "      <td>0.76</td>\n",
       "      <td>11.4310</td>\n",
       "      <td>275.0</td>\n",
       "      <td>13.7816</td>\n",
       "      <td>1013.85</td>\n",
       "    </tr>\n",
       "    <tr>\n",
       "      <th>56675</th>\n",
       "      <td>19.811111</td>\n",
       "      <td>19.811111</td>\n",
       "      <td>0.62</td>\n",
       "      <td>8.5491</td>\n",
       "      <td>200.0</td>\n",
       "      <td>11.4471</td>\n",
       "      <td>1009.10</td>\n",
       "    </tr>\n",
       "    <tr>\n",
       "      <th>56676</th>\n",
       "      <td>-0.138889</td>\n",
       "      <td>-2.411111</td>\n",
       "      <td>0.77</td>\n",
       "      <td>6.6332</td>\n",
       "      <td>344.0</td>\n",
       "      <td>11.9140</td>\n",
       "      <td>1025.02</td>\n",
       "    </tr>\n",
       "  </tbody>\n",
       "</table>\n",
       "<p>56677 rows × 7 columns</p>\n",
       "</div>"
      ],
      "text/plain": [
       "       Temperature (C)  Apparent Temperature (C)  Humidity  Wind Speed (km/h)  \\\n",
       "0            14.727778                 14.727778      0.56            12.4936   \n",
       "1             6.333333                  4.577778      0.85             8.5813   \n",
       "2             5.394444                  3.055556      0.90            10.4006   \n",
       "3            15.000000                 15.000000      0.87             5.7960   \n",
       "4             0.000000                 -2.733333      0.69             8.0500   \n",
       "...                ...                       ...       ...                ...   \n",
       "56672         3.150000                 -0.294444      0.96            13.7172   \n",
       "56673         6.038889                  3.122222      0.65            14.5061   \n",
       "56674        18.800000                 18.800000      0.76            11.4310   \n",
       "56675        19.811111                 19.811111      0.62             8.5491   \n",
       "56676        -0.138889                 -2.411111      0.77             6.6332   \n",
       "\n",
       "       Wind Bearing (degrees)  Visibility (km)  Pressure (millibars)  \n",
       "0                       151.0          16.1000               1009.03  \n",
       "1                       145.0          11.4471               1006.98  \n",
       "2                       296.0          15.1823               1004.15  \n",
       "3                       189.0          15.8746               1017.15  \n",
       "4                       340.0           9.9820               1029.00  \n",
       "...                       ...              ...                   ...  \n",
       "56672                   159.0           6.7942               1006.95  \n",
       "56673                   291.0           9.9820               1006.86  \n",
       "56674                   275.0          13.7816               1013.85  \n",
       "56675                   200.0          11.4471               1009.10  \n",
       "56676                   344.0          11.9140               1025.02  \n",
       "\n",
       "[56677 rows x 7 columns]"
      ]
     },
     "execution_count": 11,
     "metadata": {},
     "output_type": "execute_result"
    }
   ],
   "source": [
    "# normalized\n",
    "trainx"
   ]
  }
 ],
 "metadata": {
  "kernelspec": {
   "display_name": "Python 3",
   "language": "python",
   "name": "python3"
  },
  "language_info": {
   "codemirror_mode": {
    "name": "ipython",
    "version": 3
   },
   "file_extension": ".py",
   "mimetype": "text/x-python",
   "name": "python",
   "nbconvert_exporter": "python",
   "pygments_lexer": "ipython3",
   "version": "3.6.10"
  }
 },
 "nbformat": 4,
 "nbformat_minor": 4
}
