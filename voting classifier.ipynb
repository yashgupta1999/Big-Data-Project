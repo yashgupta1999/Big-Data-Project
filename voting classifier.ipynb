{
 "cells": [
  {
   "cell_type": "code",
   "execution_count": 41,
   "metadata": {},
   "outputs": [],
   "source": [
    "#this model was not used in the final submission, only for experimentation"
   ]
  },
  {
   "cell_type": "code",
   "execution_count": 37,
   "metadata": {},
   "outputs": [],
   "source": [
    "import pandas as pd\n",
    "import numpy as np\n",
    "from sklearn.ensemble import VotingClassifier \n",
    "from sklearn.tree import DecisionTreeClassifier\n",
    "from sklearn.ensemble import RandomForestClassifier\n",
    "from sklearn.naive_bayes import GaussianNB\n",
    "from sklearn.neighbors import KNeighborsClassifier\n",
    "from sklearn.svm import SVC"
   ]
  },
  {
   "cell_type": "code",
   "execution_count": 23,
   "metadata": {},
   "outputs": [],
   "source": [
    "trainx = pd.read_csv('norm_trainx.csv')\n",
    "# trainx = trainx.drop(['Temperature (C)','Apparent Temperature (C)','Wind Bearing (degrees)'],axis=1)\n",
    "trainx = trainx.drop('Unnamed: 0',axis=1);\n",
    "trainy = pd.read_csv('trainy.csv')\n",
    "trainy = trainy.drop('Unnamed: 0',axis=1);\n",
    "testx = pd.read_csv('norm_testx.csv')\n",
    "# trainx = trainx.drop(['Temperature (C)','Apparent Temperature (C)','Wind Bearing (degrees)'],axis=1)\n",
    "testx = testx.drop('Unnamed: 0',axis=1);\n",
    "testy = pd.read_csv('testy.csv')\n",
    "testy = testy.drop('Unnamed: 0',axis=1);"
   ]
  },
  {
   "cell_type": "code",
   "execution_count": 39,
   "metadata": {},
   "outputs": [],
   "source": [
    "rf = RandomForestClassifier()\n",
    "dt = DecisionTreeClassifier()\n",
    "nb = GaussianNB()\n",
    "svm = SVC()\n",
    "knn = KNeighborsClassifier(n_neighbors=34)\n",
    "vm = VotingClassifier(estimators=[('rf',rf),('knn',knn),('svm',svm)],voting='hard')"
   ]
  },
  {
   "cell_type": "code",
   "execution_count": null,
   "metadata": {},
   "outputs": [],
   "source": [
    "vm.fit(trainx,np.ravel(trainy))"
   ]
  },
  {
   "cell_type": "code",
   "execution_count": 18,
   "metadata": {},
   "outputs": [],
   "source": [
    "from sklearn.metrics import accuracy_score"
   ]
  },
  {
   "cell_type": "code",
   "execution_count": 40,
   "metadata": {},
   "outputs": [
    {
     "name": "stdout",
     "output_type": "stream",
     "text": [
      "0.5722111949186185\n",
      "0.45555114463411406\n",
      "0.521317983326717\n",
      "0.5190948789202064\n",
      "0.5424904062458648\n"
     ]
    }
   ],
   "source": [
    "for clf in (rf,nb,knn,svm,vm):\n",
    "    clf.fit(trainx,np.ravel(trainy));\n",
    "    ypred = clf.predict(testx)\n",
    "    print(accuracy_score(testy,ypred))\n"
   ]
  },
  {
   "cell_type": "code",
   "execution_count": 21,
   "metadata": {},
   "outputs": [
    {
     "data": {
      "text/plain": [
       "VotingClassifier(estimators=[('rf', RandomForestClassifier()),\n",
       "                             ('dt', DecisionTreeClassifier()),\n",
       "                             ('nb', GaussianNB())])"
      ]
     },
     "execution_count": 21,
     "metadata": {},
     "output_type": "execute_result"
    }
   ],
   "source": [
    "vm.fit(trainx,np.ravel(trainy))"
   ]
  },
  {
   "cell_type": "code",
   "execution_count": 22,
   "metadata": {},
   "outputs": [
    {
     "data": {
      "text/plain": [
       "1.0"
      ]
     },
     "execution_count": 22,
     "metadata": {},
     "output_type": "execute_result"
    }
   ],
   "source": [
    "y = "
   ]
  }
 ],
 "metadata": {
  "kernelspec": {
   "display_name": "Python 3",
   "language": "python",
   "name": "python3"
  },
  "language_info": {
   "codemirror_mode": {
    "name": "ipython",
    "version": 3
   },
   "file_extension": ".py",
   "mimetype": "text/x-python",
   "name": "python",
   "nbconvert_exporter": "python",
   "pygments_lexer": "ipython3",
   "version": "3.6.10"
  }
 },
 "nbformat": 4,
 "nbformat_minor": 4
}
