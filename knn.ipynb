{
 "cells": [
  {
   "cell_type": "code",
   "execution_count": 1,
   "metadata": {},
   "outputs": [],
   "source": [
    "#libraries\n",
    "import pandas as pd\n",
    "import sys \n",
    "from imblearn.over_sampling import SMOTE\n",
    "import seaborn as sns # used for plot interactive graph. \n",
    "import numpy as np # linear algebra\n",
    "from scipy.stats import randint\n",
    "from sklearn.model_selection import train_test_split\n",
    "from sklearn.neighbors import KNeighborsClassifier\n",
    "from sklearn.metrics import classification_report, confusion_matrix\n",
    "from sklearn.model_selection import GridSearchCV\n",
    "from sklearn import metrics\n",
    "import matplotlib.pyplot as plt # this is used for the plot the graph "
   ]
  },
  {
   "cell_type": "code",
   "execution_count": 2,
   "metadata": {},
   "outputs": [],
   "source": [
    "testx=pd.read_csv(\"data files/testx.csv\",index_col=0);\n",
    "testy=pd.read_csv(\"data files/testy.csv\",index_col=0);\n",
    "trainx=pd.read_csv(\"data files/trainx.csv\",index_col=0);\n",
    "trainy=pd.read_csv(\"data files/trainy.csv\",index_col=0);"
   ]
  },
  {
   "cell_type": "code",
   "execution_count": 4,
   "metadata": {},
   "outputs": [
    {
     "data": {
      "text/html": [
       "<div>\n",
       "<style scoped>\n",
       "    .dataframe tbody tr th:only-of-type {\n",
       "        vertical-align: middle;\n",
       "    }\n",
       "\n",
       "    .dataframe tbody tr th {\n",
       "        vertical-align: top;\n",
       "    }\n",
       "\n",
       "    .dataframe thead th {\n",
       "        text-align: right;\n",
       "    }\n",
       "</style>\n",
       "<table border=\"1\" class=\"dataframe\">\n",
       "  <thead>\n",
       "    <tr style=\"text-align: right;\">\n",
       "      <th></th>\n",
       "      <th>Temperature (C)</th>\n",
       "      <th>Apparent Temperature (C)</th>\n",
       "      <th>Humidity</th>\n",
       "      <th>Wind Speed (km/h)</th>\n",
       "      <th>Wind Bearing (degrees)</th>\n",
       "      <th>Visibility (km)</th>\n",
       "      <th>Pressure (millibars)</th>\n",
       "    </tr>\n",
       "  </thead>\n",
       "  <tbody>\n",
       "    <tr>\n",
       "      <th>0</th>\n",
       "      <td>11.066667</td>\n",
       "      <td>11.066667</td>\n",
       "      <td>0.86</td>\n",
       "      <td>21.8638</td>\n",
       "      <td>0.0</td>\n",
       "      <td>9.9820</td>\n",
       "      <td>1009.22</td>\n",
       "    </tr>\n",
       "    <tr>\n",
       "      <th>1</th>\n",
       "      <td>7.444444</td>\n",
       "      <td>7.444444</td>\n",
       "      <td>0.97</td>\n",
       "      <td>2.7370</td>\n",
       "      <td>153.0</td>\n",
       "      <td>0.2737</td>\n",
       "      <td>1020.57</td>\n",
       "    </tr>\n",
       "    <tr>\n",
       "      <th>2</th>\n",
       "      <td>1.533333</td>\n",
       "      <td>-1.727778</td>\n",
       "      <td>0.90</td>\n",
       "      <td>11.1090</td>\n",
       "      <td>323.0</td>\n",
       "      <td>13.8138</td>\n",
       "      <td>1016.92</td>\n",
       "    </tr>\n",
       "    <tr>\n",
       "      <th>3</th>\n",
       "      <td>12.844444</td>\n",
       "      <td>12.844444</td>\n",
       "      <td>0.72</td>\n",
       "      <td>19.9318</td>\n",
       "      <td>170.0</td>\n",
       "      <td>7.0840</td>\n",
       "      <td>1024.79</td>\n",
       "    </tr>\n",
       "    <tr>\n",
       "      <th>4</th>\n",
       "      <td>5.472222</td>\n",
       "      <td>4.433333</td>\n",
       "      <td>0.97</td>\n",
       "      <td>5.5545</td>\n",
       "      <td>264.0</td>\n",
       "      <td>3.1234</td>\n",
       "      <td>1014.82</td>\n",
       "    </tr>\n",
       "  </tbody>\n",
       "</table>\n",
       "</div>"
      ],
      "text/plain": [
       "   Temperature (C)  Apparent Temperature (C)  Humidity  Wind Speed (km/h)  \\\n",
       "0        11.066667                 11.066667      0.86            21.8638   \n",
       "1         7.444444                  7.444444      0.97             2.7370   \n",
       "2         1.533333                 -1.727778      0.90            11.1090   \n",
       "3        12.844444                 12.844444      0.72            19.9318   \n",
       "4         5.472222                  4.433333      0.97             5.5545   \n",
       "\n",
       "   Wind Bearing (degrees)  Visibility (km)  Pressure (millibars)  \n",
       "0                     0.0           9.9820               1009.22  \n",
       "1                   153.0           0.2737               1020.57  \n",
       "2                   323.0          13.8138               1016.92  \n",
       "3                   170.0           7.0840               1024.79  \n",
       "4                   264.0           3.1234               1014.82  "
      ]
     },
     "execution_count": 4,
     "metadata": {},
     "output_type": "execute_result"
    }
   ],
   "source": [
    "testx.head()\n"
   ]
  },
  {
   "cell_type": "code",
   "execution_count": 5,
   "metadata": {},
   "outputs": [
    {
     "data": {
      "text/html": [
       "<div>\n",
       "<style scoped>\n",
       "    .dataframe tbody tr th:only-of-type {\n",
       "        vertical-align: middle;\n",
       "    }\n",
       "\n",
       "    .dataframe tbody tr th {\n",
       "        vertical-align: top;\n",
       "    }\n",
       "\n",
       "    .dataframe thead th {\n",
       "        text-align: right;\n",
       "    }\n",
       "</style>\n",
       "<table border=\"1\" class=\"dataframe\">\n",
       "  <thead>\n",
       "    <tr style=\"text-align: right;\">\n",
       "      <th></th>\n",
       "      <th>Temperature (C)</th>\n",
       "      <th>Apparent Temperature (C)</th>\n",
       "      <th>Humidity</th>\n",
       "      <th>Wind Speed (km/h)</th>\n",
       "      <th>Wind Bearing (degrees)</th>\n",
       "      <th>Visibility (km)</th>\n",
       "      <th>Pressure (millibars)</th>\n",
       "    </tr>\n",
       "  </thead>\n",
       "  <tbody>\n",
       "    <tr>\n",
       "      <th>0</th>\n",
       "      <td>14.727778</td>\n",
       "      <td>14.727778</td>\n",
       "      <td>0.56</td>\n",
       "      <td>12.4936</td>\n",
       "      <td>151.0</td>\n",
       "      <td>16.1000</td>\n",
       "      <td>1009.03</td>\n",
       "    </tr>\n",
       "    <tr>\n",
       "      <th>1</th>\n",
       "      <td>6.333333</td>\n",
       "      <td>4.577778</td>\n",
       "      <td>0.85</td>\n",
       "      <td>8.5813</td>\n",
       "      <td>145.0</td>\n",
       "      <td>11.4471</td>\n",
       "      <td>1006.98</td>\n",
       "    </tr>\n",
       "    <tr>\n",
       "      <th>2</th>\n",
       "      <td>5.394444</td>\n",
       "      <td>3.055556</td>\n",
       "      <td>0.90</td>\n",
       "      <td>10.4006</td>\n",
       "      <td>296.0</td>\n",
       "      <td>15.1823</td>\n",
       "      <td>1004.15</td>\n",
       "    </tr>\n",
       "    <tr>\n",
       "      <th>3</th>\n",
       "      <td>15.000000</td>\n",
       "      <td>15.000000</td>\n",
       "      <td>0.87</td>\n",
       "      <td>5.7960</td>\n",
       "      <td>189.0</td>\n",
       "      <td>15.8746</td>\n",
       "      <td>1017.15</td>\n",
       "    </tr>\n",
       "    <tr>\n",
       "      <th>4</th>\n",
       "      <td>0.000000</td>\n",
       "      <td>-2.733333</td>\n",
       "      <td>0.69</td>\n",
       "      <td>8.0500</td>\n",
       "      <td>340.0</td>\n",
       "      <td>9.9820</td>\n",
       "      <td>1029.00</td>\n",
       "    </tr>\n",
       "  </tbody>\n",
       "</table>\n",
       "</div>"
      ],
      "text/plain": [
       "   Temperature (C)  Apparent Temperature (C)  Humidity  Wind Speed (km/h)  \\\n",
       "0        14.727778                 14.727778      0.56            12.4936   \n",
       "1         6.333333                  4.577778      0.85             8.5813   \n",
       "2         5.394444                  3.055556      0.90            10.4006   \n",
       "3        15.000000                 15.000000      0.87             5.7960   \n",
       "4         0.000000                 -2.733333      0.69             8.0500   \n",
       "\n",
       "   Wind Bearing (degrees)  Visibility (km)  Pressure (millibars)  \n",
       "0                   151.0          16.1000               1009.03  \n",
       "1                   145.0          11.4471               1006.98  \n",
       "2                   296.0          15.1823               1004.15  \n",
       "3                   189.0          15.8746               1017.15  \n",
       "4                   340.0           9.9820               1029.00  "
      ]
     },
     "execution_count": 5,
     "metadata": {},
     "output_type": "execute_result"
    }
   ],
   "source": [
    "trainx.head()\n"
   ]
  },
  {
   "cell_type": "code",
   "execution_count": 6,
   "metadata": {},
   "outputs": [
    {
     "data": {
      "text/html": [
       "<div>\n",
       "<style scoped>\n",
       "    .dataframe tbody tr th:only-of-type {\n",
       "        vertical-align: middle;\n",
       "    }\n",
       "\n",
       "    .dataframe tbody tr th {\n",
       "        vertical-align: top;\n",
       "    }\n",
       "\n",
       "    .dataframe thead th {\n",
       "        text-align: right;\n",
       "    }\n",
       "</style>\n",
       "<table border=\"1\" class=\"dataframe\">\n",
       "  <thead>\n",
       "    <tr style=\"text-align: right;\">\n",
       "      <th></th>\n",
       "      <th>summary</th>\n",
       "    </tr>\n",
       "  </thead>\n",
       "  <tbody>\n",
       "    <tr>\n",
       "      <th>0</th>\n",
       "      <td>2</td>\n",
       "    </tr>\n",
       "    <tr>\n",
       "      <th>1</th>\n",
       "      <td>3</td>\n",
       "    </tr>\n",
       "    <tr>\n",
       "      <th>2</th>\n",
       "      <td>2</td>\n",
       "    </tr>\n",
       "    <tr>\n",
       "      <th>3</th>\n",
       "      <td>2</td>\n",
       "    </tr>\n",
       "    <tr>\n",
       "      <th>4</th>\n",
       "      <td>4</td>\n",
       "    </tr>\n",
       "  </tbody>\n",
       "</table>\n",
       "</div>"
      ],
      "text/plain": [
       "   summary\n",
       "0        2\n",
       "1        3\n",
       "2        2\n",
       "3        2\n",
       "4        4"
      ]
     },
     "execution_count": 6,
     "metadata": {},
     "output_type": "execute_result"
    }
   ],
   "source": [
    "trainy.head()"
   ]
  },
  {
   "cell_type": "code",
   "execution_count": 7,
   "metadata": {},
   "outputs": [
    {
     "name": "stdout",
     "output_type": "stream",
     "text": [
      "max accuracy of 0.47333597988619824 at k= 34\n"
     ]
    },
    {
     "data": {
      "image/png": "[encoded data removed]",
      "text/plain": [
       "<Figure size 720x360 with 1 Axes>"
      ]
     },
     "metadata": {
      "needs_background": "light"
     },
     "output_type": "display_data"
    }
   ],
   "source": [
    "#we want the maximum accuracy for the model, deciding best k value\n",
    "accuracy=[];#array for all the accuracies for the different k values\n",
    "\n",
    "for i in range(1,50):#test all k values from 1 to 50\n",
    "    classifier=KNeighborsClassifier(n_neighbors=i);\n",
    "    classifier.fit(trainx,trainy.values.ravel());\n",
    "    prediction=classifier.predict(testx);#predict the value\n",
    "    accuracy.append(metrics.accuracy_score(testy,prediction));#add accuracy to the array\n",
    "    \n",
    "\n",
    "#plot k value vs accuracy     \n",
    "plt.figure(figsize=(10,5));\n",
    "plt.plot(range(1,50),accuracy,color='blue', linestyle='-', marker='*', markerfacecolor='green',markersize=4);\n",
    "plt.xlabel('k value');\n",
    "plt.ylabel('accuracy');\n",
    "print(\"max accuracy of\", max(accuracy),\"at k=\",accuracy.index(max(accuracy)));\n",
    "#best k value has been determined to be at k=34"
   ]
  },
  {
   "cell_type": "code",
   "execution_count": 8,
   "metadata": {},
   "outputs": [],
   "source": [
    "#lines below this were the first attempt of implementing knn with k=5\n",
    "\n",
    "classifier=KNeighborsClassifier(n_neighbors=5);\n",
    "classifier.fit(trainx,trainy.values.ravel());"
   ]
  },
  {
   "cell_type": "code",
   "execution_count": 9,
   "metadata": {},
   "outputs": [],
   "source": [
    "prediction=classifier.predict(testx)"
   ]
  },
  {
   "cell_type": "code",
   "execution_count": 10,
   "metadata": {},
   "outputs": [
    {
     "name": "stdout",
     "output_type": "stream",
     "text": [
      "[3 5 1 ... 1 1 2]\n"
     ]
    }
   ],
   "source": [
    "print (prediction)\n"
   ]
  },
  {
   "cell_type": "code",
   "execution_count": 11,
   "metadata": {},
   "outputs": [
    {
     "name": "stdout",
     "output_type": "stream",
     "text": [
      "[[7770 3372  748  677   79]\n",
      " [4913 4538 1263  389  104]\n",
      " [1741 2215 2302  161  291]\n",
      " [2268 1049  296  602  136]\n",
      " [ 129  160  428   36 2118]]\n",
      "              precision    recall  f1-score   support\n",
      "\n",
      "           1       0.46      0.61      0.53     12646\n",
      "           2       0.40      0.40      0.40     11207\n",
      "           3       0.46      0.34      0.39      6710\n",
      "           4       0.32      0.14      0.19      4351\n",
      "           5       0.78      0.74      0.76      2871\n",
      "\n",
      "    accuracy                           0.46     37785\n",
      "   macro avg       0.48      0.45      0.45     37785\n",
      "weighted avg       0.45      0.46      0.45     37785\n",
      "\n"
     ]
    }
   ],
   "source": [
    "print(confusion_matrix(testy,prediction))\n",
    "print(classification_report(testy,prediction))"
   ]
  },
  {
   "cell_type": "code",
   "execution_count": 3,
   "metadata": {},
   "outputs": [],
   "source": [
    "#testy and trainy will be the same as before since normalization/standarization is not done on the y\n",
    "\n",
    "testx_norm=pd.read_csv(\"data files/norm_testx.csv\",index_col=0);\n",
    "trainx_norm=pd.read_csv(\"data files/norm_trainx.csv\",index_col=0);\n"
   ]
  },
  {
   "cell_type": "code",
   "execution_count": 13,
   "metadata": {},
   "outputs": [],
   "source": [
    "classifier2=KNeighborsClassifier(n_neighbors=5);\n",
    "classifier2.fit(trainx_norm,trainy.values.ravel());\n",
    "prediction2=classifier2.predict(testx_norm)"
   ]
  },
  {
   "cell_type": "code",
   "execution_count": 14,
   "metadata": {},
   "outputs": [
    {
     "name": "stdout",
     "output_type": "stream",
     "text": [
      "              precision    recall  f1-score   support\n",
      "\n",
      "           1       0.50      0.64      0.56     12646\n",
      "           2       0.45      0.45      0.45     11207\n",
      "           3       0.56      0.44      0.49      6710\n",
      "           4       0.41      0.20      0.27      4351\n",
      "           5       0.91      0.92      0.92      2871\n",
      "\n",
      "    accuracy                           0.52     37785\n",
      "   macro avg       0.57      0.53      0.54     37785\n",
      "weighted avg       0.52      0.52      0.51     37785\n",
      "\n"
     ]
    }
   ],
   "source": [
    "print(classification_report(testy,prediction2))"
   ]
  },
  {
   "cell_type": "code",
   "execution_count": 4,
   "metadata": {},
   "outputs": [],
   "source": [
    "testx_std=pd.read_csv(\"data files/std_testx.csv\",index_col=0);\n",
    "trainx_std=pd.read_csv(\"data files/std_trainx.csv\",index_col=0);\n"
   ]
  },
  {
   "cell_type": "code",
   "execution_count": 16,
   "metadata": {},
   "outputs": [],
   "source": [
    "classifier3=KNeighborsClassifier(n_neighbors=5);\n",
    "classifier3.fit(trainx_std,trainy.values.ravel());\n",
    "prediction3=classifier3.predict(testx_std)"
   ]
  },
  {
   "cell_type": "code",
   "execution_count": 17,
   "metadata": {},
   "outputs": [
    {
     "name": "stdout",
     "output_type": "stream",
     "text": [
      "              precision    recall  f1-score   support\n",
      "\n",
      "           1       0.50      0.65      0.57     12646\n",
      "           2       0.45      0.46      0.46     11207\n",
      "           3       0.56      0.43      0.49      6710\n",
      "           4       0.43      0.21      0.28      4351\n",
      "           5       0.90      0.91      0.91      2871\n",
      "\n",
      "    accuracy                           0.52     37785\n",
      "   macro avg       0.57      0.53      0.54     37785\n",
      "weighted avg       0.52      0.52      0.51     37785\n",
      "\n"
     ]
    }
   ],
   "source": [
    "print(classification_report(testy,prediction3))"
   ]
  },
  {
   "cell_type": "code",
   "execution_count": 18,
   "metadata": {},
   "outputs": [],
   "source": [
    "#compare the 3 datasets to see which gets the best value\n",
    "accuracy_dataset=[]\n",
    "accuracy_dataset.append(metrics.accuracy_score(testy,prediction));#add accuracy to the array\n",
    "accuracy_dataset.append(metrics.accuracy_score(testy,prediction2));#add accuracy to the array\n",
    "accuracy_dataset.append(metrics.accuracy_score(testy,prediction3));#add accuracy to the array\n"
   ]
  },
  {
   "cell_type": "code",
   "execution_count": null,
   "metadata": {},
   "outputs": [],
   "source": [
    "##hyperparameter tuning\n",
    "\n",
    "leafsize=list(range(1,50));\n",
    "#neighbors=list(range(1,5));\n",
    "distancetype=[1,2,3];\n",
    "\n",
    "hyperparameters=dict(leaf_size=leafsize, p=distancetype);\n",
    "\n",
    "knn2=KNeighborsClassifier(n_neighbors=34);\n",
    "gridsearch=GridSearchCV(knn2,hyperparameters, cv=10);\n",
    "\n",
    "best= gridsearch.fit(trainx_std,trainy.values.ravel());\n",
    "print('best leaf size:',best.best_estimator_.get_params()['leaf_size']);\n",
    "print('best distance type:',best.best_estimator_.get_params()['p']);\n",
    "#print('best k:',best.best_estimator_.get_params()['neighbors']);\n",
    "\n",
    "predictionbest=knn2.predict(testx_std);\n",
    "print(classification_report(testy,predictionbest))"
   ]
  },
  {
   "cell_type": "code",
   "execution_count": null,
   "metadata": {},
   "outputs": [],
   "source": [
    "\n"
   ]
  },
  {
   "cell_type": "code",
   "execution_count": 7,
   "metadata": {},
   "outputs": [
    {
     "name": "stdout",
     "output_type": "stream",
     "text": [
      "              precision    recall  f1-score   support\n",
      "\n",
      "           1       0.52      0.68      0.59     12646\n",
      "           2       0.45      0.45      0.45     11207\n",
      "           3       0.55      0.46      0.50      6710\n",
      "           4       0.43      0.14      0.21      4351\n",
      "           5       0.85      0.95      0.90      2871\n",
      "\n",
      "    accuracy                           0.53     37785\n",
      "   macro avg       0.56      0.53      0.53     37785\n",
      "weighted avg       0.52      0.53      0.51     37785\n",
      "\n"
     ]
    }
   ],
   "source": [
    "##best leaf size: 1\n",
    "##best k: 34\n",
    "##best distance type: 1\n",
    "\n",
    "bestmodel=KNeighborsClassifier(n_neighbors=34, leaf_size=1, p=1);\n",
    "bestmodel.fit(trainx_std,trainy.values.ravel());\n",
    "\n",
    "predictionbestest=bestmodel.predict(testx_std);\n",
    "print(classification_report(testy,predictionbestest))"
   ]
  },
  {
   "cell_type": "code",
   "execution_count": 9,
   "metadata": {},
   "outputs": [],
   "source": [
    "##need to make a funciton to casll\n",
    "def knnModel(xtrain, ytrain, xtest,ytest):\n",
    "    \n",
    "    #knn model using best parameters found above\n",
    "    \n",
    "    knn=KNeighborsClassifier(n_neighbors=34, leaf_size=1, p=1);\n",
    "    knn.fit(xtrain,ytrain.values.ravel());\n",
    "    \n",
    "    prediction=knn.predict(xtest);\n",
    "    \n",
    "    print(classification_report(ytest,prediction))\n",
    "    \n",
    "    \n"
   ]
  },
  {
   "cell_type": "code",
   "execution_count": 10,
   "metadata": {},
   "outputs": [
    {
     "name": "stdout",
     "output_type": "stream",
     "text": [
      "              precision    recall  f1-score   support\n",
      "\n",
      "           1       0.52      0.68      0.59     12646\n",
      "           2       0.45      0.45      0.45     11207\n",
      "           3       0.55      0.46      0.50      6710\n",
      "           4       0.43      0.14      0.21      4351\n",
      "           5       0.85      0.95      0.90      2871\n",
      "\n",
      "    accuracy                           0.53     37785\n",
      "   macro avg       0.56      0.53      0.53     37785\n",
      "weighted avg       0.52      0.53      0.51     37785\n",
      "\n"
     ]
    }
   ],
   "source": [
    "knnModel(trainx_std,trainy,testx_std,testy)"
   ]
  },
  {
   "cell_type": "code",
   "execution_count": 13,
   "metadata": {},
   "outputs": [
    {
     "name": "stdout",
     "output_type": "stream",
     "text": [
      "              precision    recall  f1-score   support\n",
      "\n",
      "           1       0.52      0.68      0.59     12646\n",
      "           2       0.46      0.45      0.45     11207\n",
      "           3       0.56      0.46      0.50      6710\n",
      "           4       0.43      0.14      0.21      4351\n",
      "           5       0.87      0.97      0.91      2871\n",
      "\n",
      "    accuracy                           0.53     37785\n",
      "   macro avg       0.57      0.54      0.53     37785\n",
      "weighted avg       0.52      0.53      0.51     37785\n",
      "\n"
     ]
    }
   ],
   "source": [
    "knnModel(trainx_norm,trainy,testx_norm,testy)"
   ]
  },
  {
   "cell_type": "code",
   "execution_count": null,
   "metadata": {},
   "outputs": [],
   "source": [
    "##both the _std and _norm files get the same accuracy."
   ]
  }
 ],
 "metadata": {
  "kernelspec": {
   "display_name": "Python 3",
   "language": "python",
   "name": "python3"
  },
  "language_info": {
   "codemirror_mode": {
    "name": "ipython",
    "version": 3
   },
   "file_extension": ".py",
   "mimetype": "text/x-python",
   "name": "python",
   "nbconvert_exporter": "python",
   "pygments_lexer": "ipython3",
   "version": "3.8.3"
  }
 },
 "nbformat": 4,
 "nbformat_minor": 4
}
