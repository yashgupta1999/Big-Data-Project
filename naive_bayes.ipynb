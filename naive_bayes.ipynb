{
 "cells": [
  {
   "cell_type": "code",
   "execution_count": 1,
   "metadata": {},
   "outputs": [],
   "source": [
    "#libraries\n",
    "import pandas as pd\n",
    "import sys \n",
    "from imblearn.over_sampling import SMOTE\n",
    "import seaborn as sns # used for plot interactive graph. \n",
    "import numpy as np # linear algebra\n",
    "from scipy.stats import randint\n",
    "from sklearn.model_selection import train_test_split\n",
    "from sklearn.naive_bayes import GaussianNB\n",
    "from sklearn.model_selection import GridSearchCV\n",
    "from sklearn.preprocessing import PowerTransformer\n",
    "from sklearn.metrics import classification_report, confusion_matrix\n",
    "from sklearn import metrics\n",
    "import numpy as np\n",
    "import matplotlib.pyplot as plt # this is used for the plot the graph "
   ]
  },
  {
   "cell_type": "code",
   "execution_count": 2,
   "metadata": {},
   "outputs": [],
   "source": [
    "testx=pd.read_csv(\"data files/testx.csv\",index_col=0);\n",
    "testy=pd.read_csv(\"data files/testy.csv\",index_col=0);\n",
    "trainx=pd.read_csv(\"data files/trainx.csv\",index_col=0);\n",
    "trainy=pd.read_csv(\"data files/trainy.csv\",index_col=0);"
   ]
  },
  {
   "cell_type": "code",
   "execution_count": 4,
   "metadata": {},
   "outputs": [
    {
     "data": {
      "text/html": [
       "<div>\n",
       "<style scoped>\n",
       "    .dataframe tbody tr th:only-of-type {\n",
       "        vertical-align: middle;\n",
       "    }\n",
       "\n",
       "    .dataframe tbody tr th {\n",
       "        vertical-align: top;\n",
       "    }\n",
       "\n",
       "    .dataframe thead th {\n",
       "        text-align: right;\n",
       "    }\n",
       "</style>\n",
       "<table border=\"1\" class=\"dataframe\">\n",
       "  <thead>\n",
       "    <tr style=\"text-align: right;\">\n",
       "      <th></th>\n",
       "      <th>Temperature (C)</th>\n",
       "      <th>Apparent Temperature (C)</th>\n",
       "      <th>Humidity</th>\n",
       "      <th>Wind Speed (km/h)</th>\n",
       "      <th>Wind Bearing (degrees)</th>\n",
       "      <th>Visibility (km)</th>\n",
       "      <th>Pressure (millibars)</th>\n",
       "      <th>precip</th>\n",
       "    </tr>\n",
       "  </thead>\n",
       "  <tbody>\n",
       "    <tr>\n",
       "      <th>0</th>\n",
       "      <td>27.777778</td>\n",
       "      <td>26.966667</td>\n",
       "      <td>0.31</td>\n",
       "      <td>4.1860</td>\n",
       "      <td>270.0</td>\n",
       "      <td>16.1000</td>\n",
       "      <td>1016.80</td>\n",
       "      <td>1.0</td>\n",
       "    </tr>\n",
       "    <tr>\n",
       "      <th>1</th>\n",
       "      <td>12.072222</td>\n",
       "      <td>12.072222</td>\n",
       "      <td>0.64</td>\n",
       "      <td>13.6850</td>\n",
       "      <td>210.0</td>\n",
       "      <td>16.1000</td>\n",
       "      <td>1016.88</td>\n",
       "      <td>1.0</td>\n",
       "    </tr>\n",
       "    <tr>\n",
       "      <th>2</th>\n",
       "      <td>17.550000</td>\n",
       "      <td>17.550000</td>\n",
       "      <td>0.74</td>\n",
       "      <td>7.7763</td>\n",
       "      <td>171.0</td>\n",
       "      <td>9.9820</td>\n",
       "      <td>1013.55</td>\n",
       "      <td>1.0</td>\n",
       "    </tr>\n",
       "    <tr>\n",
       "      <th>3</th>\n",
       "      <td>15.088889</td>\n",
       "      <td>15.088889</td>\n",
       "      <td>0.93</td>\n",
       "      <td>3.4615</td>\n",
       "      <td>97.0</td>\n",
       "      <td>11.4471</td>\n",
       "      <td>1006.14</td>\n",
       "      <td>1.0</td>\n",
       "    </tr>\n",
       "    <tr>\n",
       "      <th>4</th>\n",
       "      <td>22.233333</td>\n",
       "      <td>22.233333</td>\n",
       "      <td>0.76</td>\n",
       "      <td>5.7155</td>\n",
       "      <td>57.0</td>\n",
       "      <td>6.1019</td>\n",
       "      <td>1014.39</td>\n",
       "      <td>1.0</td>\n",
       "    </tr>\n",
       "  </tbody>\n",
       "</table>\n",
       "</div>"
      ],
      "text/plain": [
       "   Temperature (C)  Apparent Temperature (C)  Humidity  Wind Speed (km/h)  \\\n",
       "0        27.777778                 26.966667      0.31             4.1860   \n",
       "1        12.072222                 12.072222      0.64            13.6850   \n",
       "2        17.550000                 17.550000      0.74             7.7763   \n",
       "3        15.088889                 15.088889      0.93             3.4615   \n",
       "4        22.233333                 22.233333      0.76             5.7155   \n",
       "\n",
       "   Wind Bearing (degrees)  Visibility (km)  Pressure (millibars)  precip  \n",
       "0                   270.0          16.1000               1016.80     1.0  \n",
       "1                   210.0          16.1000               1016.88     1.0  \n",
       "2                   171.0           9.9820               1013.55     1.0  \n",
       "3                    97.0          11.4471               1006.14     1.0  \n",
       "4                    57.0           6.1019               1014.39     1.0  "
      ]
     },
     "execution_count": 4,
     "metadata": {},
     "output_type": "execute_result"
    }
   ],
   "source": [
    "trainx.head()"
   ]
  },
  {
   "cell_type": "code",
   "execution_count": 5,
   "metadata": {},
   "outputs": [
    {
     "data": {
      "text/html": [
       "<div>\n",
       "<style scoped>\n",
       "    .dataframe tbody tr th:only-of-type {\n",
       "        vertical-align: middle;\n",
       "    }\n",
       "\n",
       "    .dataframe tbody tr th {\n",
       "        vertical-align: top;\n",
       "    }\n",
       "\n",
       "    .dataframe thead th {\n",
       "        text-align: right;\n",
       "    }\n",
       "</style>\n",
       "<table border=\"1\" class=\"dataframe\">\n",
       "  <thead>\n",
       "    <tr style=\"text-align: right;\">\n",
       "      <th></th>\n",
       "      <th>summary</th>\n",
       "    </tr>\n",
       "  </thead>\n",
       "  <tbody>\n",
       "    <tr>\n",
       "      <th>0</th>\n",
       "      <td>1</td>\n",
       "    </tr>\n",
       "    <tr>\n",
       "      <th>1</th>\n",
       "      <td>1</td>\n",
       "    </tr>\n",
       "    <tr>\n",
       "      <th>2</th>\n",
       "      <td>1</td>\n",
       "    </tr>\n",
       "    <tr>\n",
       "      <th>3</th>\n",
       "      <td>2</td>\n",
       "    </tr>\n",
       "    <tr>\n",
       "      <th>4</th>\n",
       "      <td>1</td>\n",
       "    </tr>\n",
       "  </tbody>\n",
       "</table>\n",
       "</div>"
      ],
      "text/plain": [
       "   summary\n",
       "0        1\n",
       "1        1\n",
       "2        1\n",
       "3        2\n",
       "4        1"
      ]
     },
     "execution_count": 5,
     "metadata": {},
     "output_type": "execute_result"
    }
   ],
   "source": [
    "trainy.head()"
   ]
  },
  {
   "cell_type": "code",
   "execution_count": 7,
   "metadata": {},
   "outputs": [],
   "source": [
    "classifier=GaussianNB();\n",
    "classifier.fit(trainx,trainy.values.ravel());\n",
    "prediction=classifier.predict(testx);"
   ]
  },
  {
   "cell_type": "code",
   "execution_count": 8,
   "metadata": {},
   "outputs": [
    {
     "name": "stdout",
     "output_type": "stream",
     "text": [
      "[[8360 2684 1528   65  124   14    0   21]\n",
      " [5223 3559 2185   66  162   39    1   18]\n",
      " [1007 2329 2674   67  465   29    0    7]\n",
      " [2144  887  936  296  122    4    0    0]\n",
      " [   1   12  144   51 2596    0    0    0]\n",
      " [   0    1   20    1    0  143   12   18]\n",
      " [   3   16    2    0    0  102   19   65]\n",
      " [   6    1    0    1    0   40    8   79]]\n",
      "              precision    recall  f1-score   support\n",
      "\n",
      "           1       0.50      0.65      0.57     12796\n",
      "           2       0.38      0.32      0.34     11253\n",
      "           3       0.36      0.41      0.38      6578\n",
      "           4       0.54      0.07      0.12      4389\n",
      "           5       0.75      0.93      0.83      2804\n",
      "           6       0.39      0.73      0.51       195\n",
      "           7       0.47      0.09      0.15       207\n",
      "           8       0.38      0.59      0.46       135\n",
      "\n",
      "    accuracy                           0.46     38357\n",
      "   macro avg       0.47      0.47      0.42     38357\n",
      "weighted avg       0.46      0.46      0.43     38357\n",
      "\n"
     ]
    }
   ],
   "source": [
    "print(confusion_matrix(testy,prediction))\n",
    "print(classification_report(testy,prediction))"
   ]
  },
  {
   "cell_type": "code",
   "execution_count": 3,
   "metadata": {},
   "outputs": [],
   "source": [
    "testx_std=pd.read_csv(\"data files/std_testx.csv\",index_col=0);\n",
    "trainx_std=pd.read_csv(\"data files/std_trainx.csv\",index_col=0);\n",
    "testx_norm=pd.read_csv(\"data files/norm_testx.csv\",index_col=0);\n",
    "trainx_norm=pd.read_csv(\"data files/norm_trainx.csv\",index_col=0);\n"
   ]
  },
  {
   "cell_type": "code",
   "execution_count": 52,
   "metadata": {},
   "outputs": [
    {
     "name": "stdout",
     "output_type": "stream",
     "text": [
      "max accuracy of 0.4555246791054651 at var_smoothing= 0\n"
     ]
    },
    {
     "data": {
      "image/png": "[encoded data removed]",
      "text/plain": [
       "<Figure size 720x360 with 1 Axes>"
      ]
     },
     "metadata": {
      "needs_background": "light"
     },
     "output_type": "display_data"
    }
   ],
   "source": [
    "#we want the maximum accuracy for the model, deciding best var_smoothing value\n",
    "accuracy=[];#array for all the accuracies \n",
    "\n",
    "for i in np.arange(1e-9,1e-8):#test all k values from 1 to 50\n",
    "    classifier=GaussianNB(var_smoothing=i);\n",
    "    classifier.fit(trainx,trainy.values.ravel());\n",
    "    prediction=classifier.predict(testx);#predict the value\n",
    "    accuracy.append(metrics.accuracy_score(testy,prediction));#add accuracy to the array\n",
    "    \n",
    "\n",
    "#plot k value vs accuracy     \n",
    "plt.figure(figsize=(10,5));\n",
    "plt.plot(np.arange(1e-9,1e-8),accuracy,color='blue', linestyle='-', marker='*', markerfacecolor='green',markersize=4);\n",
    "plt.xlabel('var_smoothing value');\n",
    "plt.ylabel('accuracy');\n",
    "print(\"max accuracy of\", max(accuracy),\"at var_smoothing=\",accuracy.index(max(accuracy)));\n",
    "#best var_smoothing value has been determined to be at var_smoothing="
   ]
  },
  {
   "cell_type": "code",
   "execution_count": 53,
   "metadata": {},
   "outputs": [
    {
     "name": "stdout",
     "output_type": "stream",
     "text": [
      "              precision    recall  f1-score   support\n",
      "\n",
      "           1       0.52      0.59      0.55     12646\n",
      "           2       0.39      0.27      0.32     11207\n",
      "           3       0.34      0.56      0.42      6710\n",
      "           4       0.35      0.06      0.11      4351\n",
      "           5       0.66      0.94      0.77      2871\n",
      "\n",
      "    accuracy                           0.46     37785\n",
      "   macro avg       0.45      0.48      0.44     37785\n",
      "weighted avg       0.44      0.46      0.43     37785\n",
      "\n"
     ]
    }
   ],
   "source": [
    "classifier=GaussianNB(var_smoothing=0);\n",
    "classifier.fit(trainx,trainy.values.ravel());\n",
    "prediction=classifier.predict(testx);\n",
    "\n",
    "print(classification_report(testy,prediction))"
   ]
  },
  {
   "cell_type": "code",
   "execution_count": 20,
   "metadata": {},
   "outputs": [
    {
     "name": "stdout",
     "output_type": "stream",
     "text": [
      "              precision    recall  f1-score   support\n",
      "\n",
      "           1       0.52      0.59      0.55     12646\n",
      "           2       0.39      0.27      0.32     11207\n",
      "           3       0.34      0.56      0.42      6710\n",
      "           4       0.35      0.06      0.11      4351\n",
      "           5       0.66      0.94      0.77      2871\n",
      "\n",
      "    accuracy                           0.46     37785\n",
      "   macro avg       0.45      0.48      0.44     37785\n",
      "weighted avg       0.44      0.46      0.43     37785\n",
      "\n"
     ]
    }
   ],
   "source": [
    "classifier=GaussianNB();\n",
    "classifier.fit(trainx_std,trainy.values.ravel());\n",
    "prediction=classifier.predict(testx_std);\n",
    "\n",
    "print(classification_report(testy,prediction))"
   ]
  },
  {
   "cell_type": "code",
   "execution_count": 54,
   "metadata": {},
   "outputs": [
    {
     "name": "stdout",
     "output_type": "stream",
     "text": [
      "              precision    recall  f1-score   support\n",
      "\n",
      "           1       0.52      0.59      0.55     12646\n",
      "           2       0.39      0.27      0.32     11207\n",
      "           3       0.34      0.56      0.42      6710\n",
      "           4       0.35      0.06      0.11      4351\n",
      "           5       0.66      0.94      0.77      2871\n",
      "\n",
      "    accuracy                           0.46     37785\n",
      "   macro avg       0.45      0.48      0.44     37785\n",
      "weighted avg       0.44      0.46      0.43     37785\n",
      "\n"
     ]
    }
   ],
   "source": [
    "classifier=GaussianNB(var_smoothing=1e-10);\n",
    "classifier.fit(trainx_norm,trainy.values.ravel());\n",
    "prediction=classifier.predict(testx_norm);\n",
    "\n",
    "print(classification_report(testy,prediction))"
   ]
  },
  {
   "cell_type": "code",
   "execution_count": 14,
   "metadata": {},
   "outputs": [],
   "source": [
    "nb=GaussianNB();\n",
    "\n",
    "params={'var_smoothing':np.logspace(0,-15,num=1000)}\n",
    "\n",
    "gridsearch=GridSearchCV(nb,param_grid=params,cv=10,scoring='accuracy');\n",
    "\n",
    "newdata=PowerTransformer().fit_transform(trainx)\n",
    "\n",
    "gridsearch.fit(newdata,trainy.values.ravel());\n"
   ]
  },
  {
   "cell_type": "code",
   "execution_count": 15,
   "metadata": {},
   "outputs": [
    {
     "data": {
      "text/plain": [
       "{'var_smoothing': 1e-05}"
      ]
     },
     "execution_count": 15,
     "metadata": {},
     "output_type": "execute_result"
    }
   ],
   "source": [
    "gridsearch.best_params_"
   ]
  },
  {
   "cell_type": "code",
   "execution_count": 16,
   "metadata": {},
   "outputs": [
    {
     "data": {
      "text/plain": [
       "0.4728022492970948"
      ]
     },
     "execution_count": 16,
     "metadata": {},
     "output_type": "execute_result"
    }
   ],
   "source": [
    "gridsearch.best_score_\n"
   ]
  },
  {
   "cell_type": "code",
   "execution_count": null,
   "metadata": {},
   "outputs": [],
   "source": []
  },
  {
   "cell_type": "code",
   "execution_count": null,
   "metadata": {},
   "outputs": [],
   "source": []
  },
  {
   "cell_type": "code",
   "execution_count": 23,
   "metadata": {},
   "outputs": [],
   "source": [
    "##need to make a funciton to casll\n",
    "def naiveBayesModel(xtrain, ytrain, xtest,ytest):\n",
    "    \n",
    "    #knn model using best parameters found above\n",
    "    \n",
    "    nb=GaussianNB(var_smoothing=1e-05);\n",
    "    #newdata=PowerTransformer().fit_transform(trainx)\n",
    "\n",
    "    nb.fit(xtrain,ytrain.values.ravel());\n",
    "    \n",
    "    prediction=nb.predict(xtest);\n",
    "    \n",
    "    print(classification_report(ytest,prediction))\n",
    "    \n",
    "    "
   ]
  },
  {
   "cell_type": "code",
   "execution_count": 24,
   "metadata": {},
   "outputs": [
    {
     "name": "stdout",
     "output_type": "stream",
     "text": [
      "              precision    recall  f1-score   support\n",
      "\n",
      "           1       0.52      0.59      0.55     12646\n",
      "           2       0.39      0.27      0.32     11207\n",
      "           3       0.34      0.56      0.42      6710\n",
      "           4       0.35      0.06      0.11      4351\n",
      "           5       0.66      0.94      0.77      2871\n",
      "\n",
      "    accuracy                           0.46     37785\n",
      "   macro avg       0.45      0.48      0.44     37785\n",
      "weighted avg       0.44      0.46      0.43     37785\n",
      "\n"
     ]
    }
   ],
   "source": [
    "naiveBayesModel(trainx_std,trainy, testx_std,testy)"
   ]
  },
  {
   "cell_type": "code",
   "execution_count": 25,
   "metadata": {},
   "outputs": [
    {
     "name": "stdout",
     "output_type": "stream",
     "text": [
      "              precision    recall  f1-score   support\n",
      "\n",
      "           1       0.50      0.61      0.55     12646\n",
      "           2       0.40      0.28      0.33     11207\n",
      "           3       0.34      0.50      0.41      6710\n",
      "           4       0.36      0.07      0.11      4351\n",
      "           5       0.66      0.93      0.77      2871\n",
      "\n",
      "    accuracy                           0.46     37785\n",
      "   macro avg       0.45      0.48      0.43     37785\n",
      "weighted avg       0.44      0.46      0.43     37785\n",
      "\n"
     ]
    }
   ],
   "source": [
    "naiveBayesModel(trainx,trainy, testx,testy)"
   ]
  },
  {
   "cell_type": "code",
   "execution_count": 26,
   "metadata": {},
   "outputs": [
    {
     "name": "stdout",
     "output_type": "stream",
     "text": [
      "              precision    recall  f1-score   support\n",
      "\n",
      "           1       0.52      0.59      0.55     12646\n",
      "           2       0.39      0.27      0.32     11207\n",
      "           3       0.34      0.56      0.42      6710\n",
      "           4       0.35      0.06      0.11      4351\n",
      "           5       0.66      0.94      0.77      2871\n",
      "\n",
      "    accuracy                           0.46     37785\n",
      "   macro avg       0.45      0.48      0.44     37785\n",
      "weighted avg       0.44      0.46      0.43     37785\n",
      "\n"
     ]
    }
   ],
   "source": [
    "naiveBayesModel(trainx_norm,trainy, testx_norm,testy)"
   ]
  },
  {
   "cell_type": "code",
   "execution_count": null,
   "metadata": {},
   "outputs": [],
   "source": []
  }
 ],
 "metadata": {
  "kernelspec": {
   "display_name": "Python 3",
   "language": "python",
   "name": "python3"
  },
  "language_info": {
   "codemirror_mode": {
    "name": "ipython",
    "version": 3
   },
   "file_extension": ".py",
   "mimetype": "text/x-python",
   "name": "python",
   "nbconvert_exporter": "python",
   "pygments_lexer": "ipython3",
   "version": "3.8.3"
  }
 },
 "nbformat": 4,
 "nbformat_minor": 4
}
